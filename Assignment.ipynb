{
 "cells": [
  {
   "cell_type": "code",
   "execution_count": 230,
   "metadata": {},
   "outputs": [],
   "source": [
    "import numpy as np\n",
    "import pandas as pd\n",
    "import warnings\n",
    "warnings.filterwarnings(\"ignore\")\n",
    "from sklearn.model_selection import train_test_split\n",
    "from sklearn.preprocessing import MinMaxScaler\n",
    "from sklearn.linear_model import LogisticRegression\n",
    "from sklearn.feature_selection import RFE\n",
    "from statsmodels.stats.outliers_influence import variance_inflation_factor\n",
    "import statsmodels.api as sm\n",
    "from sklearn.metrics import accuracy_score, precision_score, recall_score, f1_score\n",
    "import seaborn as sns\n",
    "import matplotlib.pyplot as plt\n",
    "import sklearn\n",
    "from sklearn.metrics import roc_curve, auc"
   ]
  },
  {
   "cell_type": "code",
   "execution_count": 231,
   "metadata": {},
   "outputs": [
    {
     "name": "stdout",
     "output_type": "stream",
     "text": [
      "<class 'pandas.core.frame.DataFrame'>\n",
      "RangeIndex: 9240 entries, 0 to 9239\n",
      "Data columns (total 37 columns):\n",
      " #   Column                                         Non-Null Count  Dtype  \n",
      "---  ------                                         --------------  -----  \n",
      " 0   Prospect ID                                    9240 non-null   object \n",
      " 1   Lead Number                                    9240 non-null   int64  \n",
      " 2   Lead Origin                                    9240 non-null   object \n",
      " 3   Lead Source                                    9204 non-null   object \n",
      " 4   Do Not Email                                   9240 non-null   object \n",
      " 5   Do Not Call                                    9240 non-null   object \n",
      " 6   Converted                                      9240 non-null   int64  \n",
      " 7   TotalVisits                                    9103 non-null   float64\n",
      " 8   Total Time Spent on Website                    9240 non-null   int64  \n",
      " 9   Page Views Per Visit                           9103 non-null   float64\n",
      " 10  Last Activity                                  9137 non-null   object \n",
      " 11  Country                                        6779 non-null   object \n",
      " 12  Specialization                                 7802 non-null   object \n",
      " 13  How did you hear about X Education             7033 non-null   object \n",
      " 14  What is your current occupation                6550 non-null   object \n",
      " 15  What matters most to you in choosing a course  6531 non-null   object \n",
      " 16  Search                                         9240 non-null   object \n",
      " 17  Magazine                                       9240 non-null   object \n",
      " 18  Newspaper Article                              9240 non-null   object \n",
      " 19  X Education Forums                             9240 non-null   object \n",
      " 20  Newspaper                                      9240 non-null   object \n",
      " 21  Digital Advertisement                          9240 non-null   object \n",
      " 22  Through Recommendations                        9240 non-null   object \n",
      " 23  Receive More Updates About Our Courses         9240 non-null   object \n",
      " 24  Tags                                           5887 non-null   object \n",
      " 25  Lead Quality                                   4473 non-null   object \n",
      " 26  Update me on Supply Chain Content              9240 non-null   object \n",
      " 27  Get updates on DM Content                      9240 non-null   object \n",
      " 28  Lead Profile                                   6531 non-null   object \n",
      " 29  City                                           7820 non-null   object \n",
      " 30  Asymmetrique Activity Index                    5022 non-null   object \n",
      " 31  Asymmetrique Profile Index                     5022 non-null   object \n",
      " 32  Asymmetrique Activity Score                    5022 non-null   float64\n",
      " 33  Asymmetrique Profile Score                     5022 non-null   float64\n",
      " 34  I agree to pay the amount through cheque       9240 non-null   object \n",
      " 35  A free copy of Mastering The Interview         9240 non-null   object \n",
      " 36  Last Notable Activity                          9240 non-null   object \n",
      "dtypes: float64(4), int64(3), object(30)\n",
      "memory usage: 2.6+ MB\n"
     ]
    }
   ],
   "source": [
    "data = pd.read_csv('Leads.csv')\n",
    "data.info()"
   ]
  },
  {
   "cell_type": "code",
   "execution_count": 232,
   "metadata": {},
   "outputs": [
    {
     "data": {
      "text/plain": [
       "Prospect ID                                       0.00\n",
       "Lead Number                                       0.00\n",
       "Lead Origin                                       0.00\n",
       "Lead Source                                       0.39\n",
       "Do Not Email                                      0.00\n",
       "Do Not Call                                       0.00\n",
       "Converted                                         0.00\n",
       "TotalVisits                                       1.48\n",
       "Total Time Spent on Website                       0.00\n",
       "Page Views Per Visit                              1.48\n",
       "Last Activity                                     1.11\n",
       "Country                                          26.63\n",
       "Specialization                                   15.56\n",
       "How did you hear about X Education               23.89\n",
       "What is your current occupation                  29.11\n",
       "What matters most to you in choosing a course    29.32\n",
       "Search                                            0.00\n",
       "Magazine                                          0.00\n",
       "Newspaper Article                                 0.00\n",
       "X Education Forums                                0.00\n",
       "Newspaper                                         0.00\n",
       "Digital Advertisement                             0.00\n",
       "Through Recommendations                           0.00\n",
       "Receive More Updates About Our Courses            0.00\n",
       "Tags                                             36.29\n",
       "Lead Quality                                     51.59\n",
       "Update me on Supply Chain Content                 0.00\n",
       "Get updates on DM Content                         0.00\n",
       "Lead Profile                                     29.32\n",
       "City                                             15.37\n",
       "Asymmetrique Activity Index                      45.65\n",
       "Asymmetrique Profile Index                       45.65\n",
       "Asymmetrique Activity Score                      45.65\n",
       "Asymmetrique Profile Score                       45.65\n",
       "I agree to pay the amount through cheque          0.00\n",
       "A free copy of Mastering The Interview            0.00\n",
       "Last Notable Activity                             0.00\n",
       "dtype: float64"
      ]
     },
     "execution_count": 232,
     "metadata": {},
     "output_type": "execute_result"
    }
   ],
   "source": [
    "# Let's check the missing values percentage in each column\n",
    "\n",
    "round(100*data.isna().sum()/len(data),2)"
   ]
  },
  {
   "cell_type": "code",
   "execution_count": 233,
   "metadata": {},
   "outputs": [
    {
     "data": {
      "text/html": [
       "<div>\n",
       "<style scoped>\n",
       "    .dataframe tbody tr th:only-of-type {\n",
       "        vertical-align: middle;\n",
       "    }\n",
       "\n",
       "    .dataframe tbody tr th {\n",
       "        vertical-align: top;\n",
       "    }\n",
       "\n",
       "    .dataframe thead th {\n",
       "        text-align: right;\n",
       "    }\n",
       "</style>\n",
       "<table border=\"1\" class=\"dataframe\">\n",
       "  <thead>\n",
       "    <tr style=\"text-align: right;\">\n",
       "      <th></th>\n",
       "      <th>Lead Number</th>\n",
       "      <th>Converted</th>\n",
       "      <th>TotalVisits</th>\n",
       "      <th>Total Time Spent on Website</th>\n",
       "      <th>Page Views Per Visit</th>\n",
       "      <th>Asymmetrique Activity Score</th>\n",
       "      <th>Asymmetrique Profile Score</th>\n",
       "    </tr>\n",
       "  </thead>\n",
       "  <tbody>\n",
       "    <tr>\n",
       "      <th>count</th>\n",
       "      <td>9240.000000</td>\n",
       "      <td>9240.000000</td>\n",
       "      <td>9103.000000</td>\n",
       "      <td>9240.000000</td>\n",
       "      <td>9103.000000</td>\n",
       "      <td>5022.000000</td>\n",
       "      <td>5022.000000</td>\n",
       "    </tr>\n",
       "    <tr>\n",
       "      <th>mean</th>\n",
       "      <td>617188.435606</td>\n",
       "      <td>0.385390</td>\n",
       "      <td>3.445238</td>\n",
       "      <td>487.698268</td>\n",
       "      <td>2.362820</td>\n",
       "      <td>14.306252</td>\n",
       "      <td>16.344883</td>\n",
       "    </tr>\n",
       "    <tr>\n",
       "      <th>std</th>\n",
       "      <td>23405.995698</td>\n",
       "      <td>0.486714</td>\n",
       "      <td>4.854853</td>\n",
       "      <td>548.021466</td>\n",
       "      <td>2.161418</td>\n",
       "      <td>1.386694</td>\n",
       "      <td>1.811395</td>\n",
       "    </tr>\n",
       "    <tr>\n",
       "      <th>min</th>\n",
       "      <td>579533.000000</td>\n",
       "      <td>0.000000</td>\n",
       "      <td>0.000000</td>\n",
       "      <td>0.000000</td>\n",
       "      <td>0.000000</td>\n",
       "      <td>7.000000</td>\n",
       "      <td>11.000000</td>\n",
       "    </tr>\n",
       "    <tr>\n",
       "      <th>25%</th>\n",
       "      <td>596484.500000</td>\n",
       "      <td>0.000000</td>\n",
       "      <td>1.000000</td>\n",
       "      <td>12.000000</td>\n",
       "      <td>1.000000</td>\n",
       "      <td>14.000000</td>\n",
       "      <td>15.000000</td>\n",
       "    </tr>\n",
       "    <tr>\n",
       "      <th>50%</th>\n",
       "      <td>615479.000000</td>\n",
       "      <td>0.000000</td>\n",
       "      <td>3.000000</td>\n",
       "      <td>248.000000</td>\n",
       "      <td>2.000000</td>\n",
       "      <td>14.000000</td>\n",
       "      <td>16.000000</td>\n",
       "    </tr>\n",
       "    <tr>\n",
       "      <th>75%</th>\n",
       "      <td>637387.250000</td>\n",
       "      <td>1.000000</td>\n",
       "      <td>5.000000</td>\n",
       "      <td>936.000000</td>\n",
       "      <td>3.000000</td>\n",
       "      <td>15.000000</td>\n",
       "      <td>18.000000</td>\n",
       "    </tr>\n",
       "    <tr>\n",
       "      <th>max</th>\n",
       "      <td>660737.000000</td>\n",
       "      <td>1.000000</td>\n",
       "      <td>251.000000</td>\n",
       "      <td>2272.000000</td>\n",
       "      <td>55.000000</td>\n",
       "      <td>18.000000</td>\n",
       "      <td>20.000000</td>\n",
       "    </tr>\n",
       "  </tbody>\n",
       "</table>\n",
       "</div>"
      ],
      "text/plain": [
       "         Lead Number    Converted  TotalVisits  Total Time Spent on Website  \\\n",
       "count    9240.000000  9240.000000  9103.000000                  9240.000000   \n",
       "mean   617188.435606     0.385390     3.445238                   487.698268   \n",
       "std     23405.995698     0.486714     4.854853                   548.021466   \n",
       "min    579533.000000     0.000000     0.000000                     0.000000   \n",
       "25%    596484.500000     0.000000     1.000000                    12.000000   \n",
       "50%    615479.000000     0.000000     3.000000                   248.000000   \n",
       "75%    637387.250000     1.000000     5.000000                   936.000000   \n",
       "max    660737.000000     1.000000   251.000000                  2272.000000   \n",
       "\n",
       "       Page Views Per Visit  Asymmetrique Activity Score  \\\n",
       "count           9103.000000                  5022.000000   \n",
       "mean               2.362820                    14.306252   \n",
       "std                2.161418                     1.386694   \n",
       "min                0.000000                     7.000000   \n",
       "25%                1.000000                    14.000000   \n",
       "50%                2.000000                    14.000000   \n",
       "75%                3.000000                    15.000000   \n",
       "max               55.000000                    18.000000   \n",
       "\n",
       "       Asymmetrique Profile Score  \n",
       "count                 5022.000000  \n",
       "mean                    16.344883  \n",
       "std                      1.811395  \n",
       "min                     11.000000  \n",
       "25%                     15.000000  \n",
       "50%                     16.000000  \n",
       "75%                     18.000000  \n",
       "max                     20.000000  "
      ]
     },
     "execution_count": 233,
     "metadata": {},
     "output_type": "execute_result"
    }
   ],
   "source": [
    "# Let's look into the data\n",
    "\n",
    "data.describe()"
   ]
  },
  {
   "cell_type": "code",
   "execution_count": 234,
   "metadata": {},
   "outputs": [
    {
     "data": {
      "text/plain": [
       "(9240, 32)"
      ]
     },
     "execution_count": 234,
     "metadata": {},
     "output_type": "execute_result"
    }
   ],
   "source": [
    "# Remove the columns with more than 40% missing values\n",
    "\n",
    "missing_values = data.isnull().sum()\n",
    "missing_values_percentage = missing_values/len(data)\n",
    "columns_to_drop = missing_values_percentage[missing_values_percentage > 0.4].index.tolist()\n",
    "data = data.drop(columns_to_drop, axis=1)\n",
    "data.shape"
   ]
  },
  {
   "cell_type": "code",
   "execution_count": 235,
   "metadata": {},
   "outputs": [
    {
     "data": {
      "text/plain": [
       "(9240, 30)"
      ]
     },
     "execution_count": 235,
     "metadata": {},
     "output_type": "execute_result"
    }
   ],
   "source": [
    "# Drop the \"Prospect ID\" and \"Lead Number\" columns as they serve no purpose in building the model\n",
    "\n",
    "data = data.drop([\"Prospect ID\", \"Lead Number\"], axis=1)\n",
    "data.shape"
   ]
  },
  {
   "cell_type": "code",
   "execution_count": 236,
   "metadata": {},
   "outputs": [
    {
     "data": {
      "text/plain": [
       "(9240, 18)"
      ]
     },
     "execution_count": 236,
     "metadata": {},
     "output_type": "execute_result"
    }
   ],
   "source": [
    "# Drop the columns that have a low number of \"Yes\", as they won't affect the model performance.\n",
    "\n",
    "data = data.drop([\"Receive More Updates About Our Courses\",\"Magazine\", \"Search\", \"Newspaper Article\", \"X Education Forums\", \"Newspaper\", \"Digital Advertisement\", \"Through Recommendations\", \"Update me on Supply Chain Content\", \"Do Not Call\", \"Get updates on DM Content\", \"I agree to pay the amount through cheque\" ], axis=1)\n",
    "data.shape"
   ]
  },
  {
   "cell_type": "code",
   "execution_count": 237,
   "metadata": {},
   "outputs": [
    {
     "data": {
      "text/html": [
       "<div>\n",
       "<style scoped>\n",
       "    .dataframe tbody tr th:only-of-type {\n",
       "        vertical-align: middle;\n",
       "    }\n",
       "\n",
       "    .dataframe tbody tr th {\n",
       "        vertical-align: top;\n",
       "    }\n",
       "\n",
       "    .dataframe thead th {\n",
       "        text-align: right;\n",
       "    }\n",
       "</style>\n",
       "<table border=\"1\" class=\"dataframe\">\n",
       "  <thead>\n",
       "    <tr style=\"text-align: right;\">\n",
       "      <th></th>\n",
       "      <th>Converted</th>\n",
       "      <th>TotalVisits</th>\n",
       "      <th>Total Time Spent on Website</th>\n",
       "      <th>Page Views Per Visit</th>\n",
       "    </tr>\n",
       "  </thead>\n",
       "  <tbody>\n",
       "    <tr>\n",
       "      <th>count</th>\n",
       "      <td>9240.000000</td>\n",
       "      <td>9103.000000</td>\n",
       "      <td>9240.000000</td>\n",
       "      <td>9103.000000</td>\n",
       "    </tr>\n",
       "    <tr>\n",
       "      <th>mean</th>\n",
       "      <td>0.385390</td>\n",
       "      <td>3.445238</td>\n",
       "      <td>487.698268</td>\n",
       "      <td>2.362820</td>\n",
       "    </tr>\n",
       "    <tr>\n",
       "      <th>std</th>\n",
       "      <td>0.486714</td>\n",
       "      <td>4.854853</td>\n",
       "      <td>548.021466</td>\n",
       "      <td>2.161418</td>\n",
       "    </tr>\n",
       "    <tr>\n",
       "      <th>min</th>\n",
       "      <td>0.000000</td>\n",
       "      <td>0.000000</td>\n",
       "      <td>0.000000</td>\n",
       "      <td>0.000000</td>\n",
       "    </tr>\n",
       "    <tr>\n",
       "      <th>25%</th>\n",
       "      <td>0.000000</td>\n",
       "      <td>1.000000</td>\n",
       "      <td>12.000000</td>\n",
       "      <td>1.000000</td>\n",
       "    </tr>\n",
       "    <tr>\n",
       "      <th>50%</th>\n",
       "      <td>0.000000</td>\n",
       "      <td>3.000000</td>\n",
       "      <td>248.000000</td>\n",
       "      <td>2.000000</td>\n",
       "    </tr>\n",
       "    <tr>\n",
       "      <th>75%</th>\n",
       "      <td>1.000000</td>\n",
       "      <td>5.000000</td>\n",
       "      <td>936.000000</td>\n",
       "      <td>3.000000</td>\n",
       "    </tr>\n",
       "    <tr>\n",
       "      <th>max</th>\n",
       "      <td>1.000000</td>\n",
       "      <td>251.000000</td>\n",
       "      <td>2272.000000</td>\n",
       "      <td>55.000000</td>\n",
       "    </tr>\n",
       "  </tbody>\n",
       "</table>\n",
       "</div>"
      ],
      "text/plain": [
       "         Converted  TotalVisits  Total Time Spent on Website  \\\n",
       "count  9240.000000  9103.000000                  9240.000000   \n",
       "mean      0.385390     3.445238                   487.698268   \n",
       "std       0.486714     4.854853                   548.021466   \n",
       "min       0.000000     0.000000                     0.000000   \n",
       "25%       0.000000     1.000000                    12.000000   \n",
       "50%       0.000000     3.000000                   248.000000   \n",
       "75%       1.000000     5.000000                   936.000000   \n",
       "max       1.000000   251.000000                  2272.000000   \n",
       "\n",
       "       Page Views Per Visit  \n",
       "count           9103.000000  \n",
       "mean               2.362820  \n",
       "std                2.161418  \n",
       "min                0.000000  \n",
       "25%                1.000000  \n",
       "50%                2.000000  \n",
       "75%                3.000000  \n",
       "max               55.000000  "
      ]
     },
     "execution_count": 237,
     "metadata": {},
     "output_type": "execute_result"
    }
   ],
   "source": [
    "# Let's look into the data\n",
    "\n",
    "data.describe()"
   ]
  },
  {
   "cell_type": "code",
   "execution_count": 238,
   "metadata": {},
   "outputs": [
    {
     "data": {
      "image/png": "[encoded data removed]",
      "text/plain": [
       "<Figure size 640x480 with 1 Axes>"
      ]
     },
     "metadata": {},
     "output_type": "display_data"
    }
   ],
   "source": [
    "# Let's plot a boxplot for the TotalVisits column\n",
    "\n",
    "sns.boxplot(data.TotalVisits)\n",
    "plt.show()"
   ]
  },
  {
   "cell_type": "code",
   "execution_count": 239,
   "metadata": {},
   "outputs": [
    {
     "data": {
      "image/png": "[encoded data removed]",
      "text/plain": [
       "<Figure size 500x500 with 1 Axes>"
      ]
     },
     "metadata": {},
     "output_type": "display_data"
    }
   ],
   "source": [
    "# Plot a histogram for the TotalVisits column\n",
    "\n",
    "sns.displot(data.TotalVisits)\n",
    "plt.show()"
   ]
  },
  {
   "cell_type": "markdown",
   "metadata": {},
   "source": [
    "We can see that there are heavy outliers, skewing the data. Hence these outliers are to be removed."
   ]
  },
  {
   "cell_type": "code",
   "execution_count": 240,
   "metadata": {},
   "outputs": [],
   "source": [
    "# Remove the rows that have a high number of Total Visits (> 20), as they skew the entire column data\n",
    "\n",
    "data = data[~(data.TotalVisits>20)]"
   ]
  },
  {
   "cell_type": "code",
   "execution_count": 241,
   "metadata": {},
   "outputs": [
    {
     "data": {
      "image/png": "[encoded data removed]",
      "text/plain": [
       "<Figure size 500x500 with 1 Axes>"
      ]
     },
     "metadata": {},
     "output_type": "display_data"
    },
    {
     "data": {
      "image/png": "[encoded data removed]",
      "text/plain": [
       "<Figure size 640x480 with 1 Axes>"
      ]
     },
     "metadata": {},
     "output_type": "display_data"
    }
   ],
   "source": [
    "# Let's plot the histogram and boxplot for the TotalVisits column again\n",
    "\n",
    "sns.displot(data.TotalVisits)\n",
    "plt.show()\n",
    "sns.boxplot(data.TotalVisits)\n",
    "plt.show()"
   ]
  },
  {
   "cell_type": "code",
   "execution_count": 242,
   "metadata": {},
   "outputs": [
    {
     "data": {
      "text/html": [
       "<div>\n",
       "<style scoped>\n",
       "    .dataframe tbody tr th:only-of-type {\n",
       "        vertical-align: middle;\n",
       "    }\n",
       "\n",
       "    .dataframe tbody tr th {\n",
       "        vertical-align: top;\n",
       "    }\n",
       "\n",
       "    .dataframe thead th {\n",
       "        text-align: right;\n",
       "    }\n",
       "</style>\n",
       "<table border=\"1\" class=\"dataframe\">\n",
       "  <thead>\n",
       "    <tr style=\"text-align: right;\">\n",
       "      <th></th>\n",
       "      <th>Converted</th>\n",
       "      <th>TotalVisits</th>\n",
       "      <th>Total Time Spent on Website</th>\n",
       "      <th>Page Views Per Visit</th>\n",
       "    </tr>\n",
       "  </thead>\n",
       "  <tbody>\n",
       "    <tr>\n",
       "      <th>count</th>\n",
       "      <td>9193.000000</td>\n",
       "      <td>9056.000000</td>\n",
       "      <td>9193.000000</td>\n",
       "      <td>9056.000000</td>\n",
       "    </tr>\n",
       "    <tr>\n",
       "      <th>mean</th>\n",
       "      <td>0.385184</td>\n",
       "      <td>3.269435</td>\n",
       "      <td>487.005113</td>\n",
       "      <td>2.342778</td>\n",
       "    </tr>\n",
       "    <tr>\n",
       "      <th>std</th>\n",
       "      <td>0.486665</td>\n",
       "      <td>3.144111</td>\n",
       "      <td>547.923193</td>\n",
       "      <td>2.063161</td>\n",
       "    </tr>\n",
       "    <tr>\n",
       "      <th>min</th>\n",
       "      <td>0.000000</td>\n",
       "      <td>0.000000</td>\n",
       "      <td>0.000000</td>\n",
       "      <td>0.000000</td>\n",
       "    </tr>\n",
       "    <tr>\n",
       "      <th>25%</th>\n",
       "      <td>0.000000</td>\n",
       "      <td>1.000000</td>\n",
       "      <td>11.000000</td>\n",
       "      <td>1.000000</td>\n",
       "    </tr>\n",
       "    <tr>\n",
       "      <th>50%</th>\n",
       "      <td>0.000000</td>\n",
       "      <td>3.000000</td>\n",
       "      <td>248.000000</td>\n",
       "      <td>2.000000</td>\n",
       "    </tr>\n",
       "    <tr>\n",
       "      <th>75%</th>\n",
       "      <td>1.000000</td>\n",
       "      <td>5.000000</td>\n",
       "      <td>935.000000</td>\n",
       "      <td>3.000000</td>\n",
       "    </tr>\n",
       "    <tr>\n",
       "      <th>max</th>\n",
       "      <td>1.000000</td>\n",
       "      <td>20.000000</td>\n",
       "      <td>2272.000000</td>\n",
       "      <td>16.000000</td>\n",
       "    </tr>\n",
       "  </tbody>\n",
       "</table>\n",
       "</div>"
      ],
      "text/plain": [
       "         Converted  TotalVisits  Total Time Spent on Website  \\\n",
       "count  9193.000000  9056.000000                  9193.000000   \n",
       "mean      0.385184     3.269435                   487.005113   \n",
       "std       0.486665     3.144111                   547.923193   \n",
       "min       0.000000     0.000000                     0.000000   \n",
       "25%       0.000000     1.000000                    11.000000   \n",
       "50%       0.000000     3.000000                   248.000000   \n",
       "75%       1.000000     5.000000                   935.000000   \n",
       "max       1.000000    20.000000                  2272.000000   \n",
       "\n",
       "       Page Views Per Visit  \n",
       "count           9056.000000  \n",
       "mean               2.342778  \n",
       "std                2.063161  \n",
       "min                0.000000  \n",
       "25%                1.000000  \n",
       "50%                2.000000  \n",
       "75%                3.000000  \n",
       "max               16.000000  "
      ]
     },
     "execution_count": 242,
     "metadata": {},
     "output_type": "execute_result"
    }
   ],
   "source": [
    "# Let's look into the data description again\n",
    "\n",
    "data.describe()"
   ]
  },
  {
   "cell_type": "code",
   "execution_count": 243,
   "metadata": {},
   "outputs": [
    {
     "data": {
      "image/png": "[encoded data removed]",
      "text/plain": [
       "<Figure size 640x480 with 1 Axes>"
      ]
     },
     "metadata": {},
     "output_type": "display_data"
    },
    {
     "data": {
      "image/png": "[encoded data removed]",
      "text/plain": [
       "<Figure size 500x500 with 1 Axes>"
      ]
     },
     "metadata": {},
     "output_type": "display_data"
    }
   ],
   "source": [
    "# Let's plot a boxplot and histogram for \"Total Time Spent on Website\"\n",
    "\n",
    "sns.boxplot(data[\"Total Time Spent on Website\"])\n",
    "plt.show()\n",
    "sns.displot(data[\"Total Time Spent on Website\"])\n",
    "plt.show()"
   ]
  },
  {
   "cell_type": "markdown",
   "metadata": {},
   "source": [
    "There are no outliers in the \"Total Time Spent on Website\" column. But the data is heavily skewed towards the left end."
   ]
  },
  {
   "cell_type": "code",
   "execution_count": 244,
   "metadata": {},
   "outputs": [
    {
     "data": {
      "image/png": "[encoded data removed]",
      "text/plain": [
       "<Figure size 640x480 with 1 Axes>"
      ]
     },
     "metadata": {},
     "output_type": "display_data"
    },
    {
     "data": {
      "image/png": "[encoded data removed]",
      "text/plain": [
       "<Figure size 500x500 with 1 Axes>"
      ]
     },
     "metadata": {},
     "output_type": "display_data"
    }
   ],
   "source": [
    "# Let's plot the histogram and boxplot for \"Page Views Per Visit\" column\n",
    "\n",
    "sns.boxplot(data[\"Page Views Per Visit\"])\n",
    "plt.show()\n",
    "sns.displot(data[\"Page Views Per Visit\"])\n",
    "plt.show()"
   ]
  },
  {
   "cell_type": "code",
   "execution_count": 245,
   "metadata": {},
   "outputs": [],
   "source": [
    "# Let's remove the outliers from the \"Page Views Per Visit\" column (> 10 views per visit)\n",
    "\n",
    "data = data[~(data[\"Page Views Per Visit\"]>10)]"
   ]
  },
  {
   "cell_type": "code",
   "execution_count": 246,
   "metadata": {},
   "outputs": [
    {
     "data": {
      "image/png": "[encoded data removed]",
      "text/plain": [
       "<Figure size 640x480 with 1 Axes>"
      ]
     },
     "metadata": {},
     "output_type": "display_data"
    },
    {
     "data": {
      "image/png": "[encoded data removed]",
      "text/plain": [
       "<Figure size 500x500 with 1 Axes>"
      ]
     },
     "metadata": {},
     "output_type": "display_data"
    }
   ],
   "source": [
    "# Let's plot the histogram and boxplot for \"Page Views Per Visit\" column again\n",
    "\n",
    "sns.boxplot(data[\"Page Views Per Visit\"])\n",
    "plt.show()\n",
    "sns.displot(data[\"Page Views Per Visit\"], bins=6)\n",
    "plt.show()"
   ]
  },
  {
   "cell_type": "code",
   "execution_count": 247,
   "metadata": {},
   "outputs": [
    {
     "data": {
      "text/plain": [
       "Lead Origin                                       0.00\n",
       "Lead Source                                       0.39\n",
       "Do Not Email                                      0.00\n",
       "Converted                                         0.00\n",
       "TotalVisits                                       1.50\n",
       "Total Time Spent on Website                       0.00\n",
       "Page Views Per Visit                              1.50\n",
       "Last Activity                                     1.13\n",
       "Country                                          26.90\n",
       "Specialization                                   15.67\n",
       "How did you hear about X Education               23.88\n",
       "What is your current occupation                  29.13\n",
       "What matters most to you in choosing a course    29.33\n",
       "Tags                                             36.31\n",
       "Lead Profile                                     29.33\n",
       "City                                             15.48\n",
       "A free copy of Mastering The Interview            0.00\n",
       "Last Notable Activity                             0.00\n",
       "dtype: float64"
      ]
     },
     "execution_count": 247,
     "metadata": {},
     "output_type": "execute_result"
    }
   ],
   "source": [
    "# Let's check the missing values percentage in each column again\n",
    "\n",
    "round(100*data.isna().sum()/len(data),2)"
   ]
  },
  {
   "cell_type": "code",
   "execution_count": 248,
   "metadata": {},
   "outputs": [
    {
     "data": {
      "text/plain": [
       "Tags\n",
       "Will revert after reading the email                  35.284023\n",
       "Ringing                                              20.353527\n",
       "Interested in other courses                           8.752360\n",
       "Already a student                                     7.945770\n",
       "Closed by Horizzon                                    6.006521\n",
       "switched off                                          4.084435\n",
       "Busy                                                  3.174876\n",
       "Lost to EINS                                          2.968938\n",
       "Not doing further education                           2.368286\n",
       "Interested  in full time MBA                          2.007894\n",
       "Graduation in progress                                1.887764\n",
       "invalid number                                        1.424404\n",
       "Diploma holder (Not Eligible)                         1.081174\n",
       "wrong number given                                    0.789429\n",
       "opp hangup                                            0.566329\n",
       "number not provided                                   0.463360\n",
       "in touch with EINS                                    0.205938\n",
       "Lost to Others                                        0.120130\n",
       "Still Thinking                                        0.102969\n",
       "Want to take admission but has financial problems     0.102969\n",
       "In confusion whether part time or DLP                 0.085807\n",
       "Interested in Next batch                              0.085807\n",
       "Lateral student                                       0.051484\n",
       "Shall take in the next coming month                   0.034323\n",
       "University not recognized                             0.034323\n",
       "Recognition issue (DEC approval)                      0.017161\n",
       "Name: proportion, dtype: float64"
      ]
     },
     "execution_count": 248,
     "metadata": {},
     "output_type": "execute_result"
    }
   ],
   "source": [
    "# Let's check the \"Tags\" column\n",
    "\n",
    "100*data[\"Tags\"].value_counts(normalize=True)"
   ]
  },
  {
   "cell_type": "code",
   "execution_count": 249,
   "metadata": {},
   "outputs": [],
   "source": [
    "# Let's impute missing categories as \"Others\"\n",
    "\n",
    "data.Tags = data.Tags.fillna(\"Missing\")"
   ]
  },
  {
   "cell_type": "code",
   "execution_count": 250,
   "metadata": {},
   "outputs": [
    {
     "data": {
      "text/plain": [
       "Lead Origin                                       0.00\n",
       "Lead Source                                       0.39\n",
       "Do Not Email                                      0.00\n",
       "Converted                                         0.00\n",
       "TotalVisits                                       1.50\n",
       "Total Time Spent on Website                       0.00\n",
       "Page Views Per Visit                              1.50\n",
       "Last Activity                                     1.13\n",
       "Country                                          26.90\n",
       "Specialization                                   15.67\n",
       "How did you hear about X Education               23.88\n",
       "What is your current occupation                  29.13\n",
       "What matters most to you in choosing a course    29.33\n",
       "Tags                                              0.00\n",
       "Lead Profile                                     29.33\n",
       "City                                             15.48\n",
       "A free copy of Mastering The Interview            0.00\n",
       "Last Notable Activity                             0.00\n",
       "dtype: float64"
      ]
     },
     "execution_count": 250,
     "metadata": {},
     "output_type": "execute_result"
    }
   ],
   "source": [
    "# Let's check the missing values percentage in each column again\n",
    "\n",
    "round(100*data.isna().sum()/len(data),2)"
   ]
  },
  {
   "cell_type": "code",
   "execution_count": 251,
   "metadata": {},
   "outputs": [
    {
     "data": {
      "text/plain": [
       "Lead Profile\n",
       "Select                         63.501392\n",
       "Potential Lead                 24.698423\n",
       "Other Leads                     7.423446\n",
       "Student of SomeSchool           3.711723\n",
       "Lateral Student                 0.355707\n",
       "Dual Specialization Student     0.309310\n",
       "Name: proportion, dtype: float64"
      ]
     },
     "execution_count": 251,
     "metadata": {},
     "output_type": "execute_result"
    }
   ],
   "source": [
    "# Let's check the \"Lead Profile\" column\n",
    "\n",
    "100*data[\"Lead Profile\"].value_counts(normalize=True)"
   ]
  },
  {
   "cell_type": "markdown",
   "metadata": {},
   "source": [
    "There are some columns that have the value \"Select\" in it, which are as good as \"Null\" values, as they might be the default value for missing data/value that is not filled in while inputting the data. Hence we need to identify these columns and impute the values as Null and check the missing values percentage in each column again."
   ]
  },
  {
   "cell_type": "code",
   "execution_count": 252,
   "metadata": {},
   "outputs": [
    {
     "data": {
      "text/plain": [
       "['Specialization',\n",
       " 'How did you hear about X Education',\n",
       " 'Lead Profile',\n",
       " 'City']"
      ]
     },
     "execution_count": 252,
     "metadata": {},
     "output_type": "execute_result"
    }
   ],
   "source": [
    "# Let's check the columns that have the value \"Select\" in them\n",
    "\n",
    "columns_with_select = [col for col in data.columns if data[col].isin(['Select']).any()]\n",
    "\n",
    "columns_with_select"
   ]
  },
  {
   "cell_type": "code",
   "execution_count": 253,
   "metadata": {},
   "outputs": [],
   "source": [
    "# Let's impute the \"Select\" value with Nulls\n",
    "\n",
    "data[columns_with_select] = data[columns_with_select].replace('Select', np.nan)"
   ]
  },
  {
   "cell_type": "code",
   "execution_count": 254,
   "metadata": {},
   "outputs": [
    {
     "data": {
      "text/plain": [
       "Lead Origin                                       0.00\n",
       "Lead Source                                       0.39\n",
       "Do Not Email                                      0.00\n",
       "Converted                                         0.00\n",
       "TotalVisits                                       1.50\n",
       "Total Time Spent on Website                       0.00\n",
       "Page Views Per Visit                              1.50\n",
       "Last Activity                                     1.13\n",
       "Country                                          26.90\n",
       "Specialization                                   36.79\n",
       "How did you hear about X Education               78.47\n",
       "What is your current occupation                  29.13\n",
       "What matters most to you in choosing a course    29.33\n",
       "Tags                                              0.00\n",
       "Lead Profile                                     74.20\n",
       "City                                             39.95\n",
       "A free copy of Mastering The Interview            0.00\n",
       "Last Notable Activity                             0.00\n",
       "dtype: float64"
      ]
     },
     "execution_count": 254,
     "metadata": {},
     "output_type": "execute_result"
    }
   ],
   "source": [
    "# Let's check the missing values percentage in each column again\n",
    "\n",
    "round(100*data.isna().sum()/len(data),2)"
   ]
  },
  {
   "cell_type": "code",
   "execution_count": 255,
   "metadata": {},
   "outputs": [
    {
     "data": {
      "text/plain": [
       "City\n",
       "Mumbai                         57.844922\n",
       "Thane & Outskirts              13.396432\n",
       "Other Cities                   12.413542\n",
       "Other Cities of Maharashtra     8.227157\n",
       "Other Metro Cities              6.789225\n",
       "Tier II Cities                  1.328722\n",
       "Name: proportion, dtype: float64"
      ]
     },
     "execution_count": 255,
     "metadata": {},
     "output_type": "execute_result"
    }
   ],
   "source": [
    "# Let's check the City column\n",
    "\n",
    "100*data[\"City\"].value_counts(normalize=True)"
   ]
  },
  {
   "cell_type": "code",
   "execution_count": 256,
   "metadata": {},
   "outputs": [
    {
     "data": {
      "text/plain": [
       "City\n",
       "Mumbai                         0.407080\n",
       "Other Cities                   0.296460\n",
       "Other Cities of Maharashtra    0.101770\n",
       "Thane & Outskirts              0.092920\n",
       "Other Metro Cities             0.088496\n",
       "Tier II Cities                 0.013274\n",
       "Name: proportion, dtype: float64"
      ]
     },
     "execution_count": 256,
     "metadata": {},
     "output_type": "execute_result"
    }
   ],
   "source": [
    "# Let's check the City column where the Country is not India, Asia/Pacific, unknowns or nulls\n",
    "\n",
    "data[~(data[\"Country\"].isin([\"India\", \"Asia/Pacific\", np.nan, \"unknown\"]))][\"City\"].value_counts(normalize=True)"
   ]
  },
  {
   "cell_type": "markdown",
   "metadata": {},
   "source": [
    "The City column is not aligned with the respective country cities and provided with some random data. Hence we can drop the City column. "
   ]
  },
  {
   "cell_type": "code",
   "execution_count": 257,
   "metadata": {},
   "outputs": [
    {
     "data": {
      "text/plain": [
       "(9149, 17)"
      ]
     },
     "execution_count": 257,
     "metadata": {},
     "output_type": "execute_result"
    }
   ],
   "source": [
    "# Let's drop the City column\n",
    "\n",
    "data = data.drop(\"City\", axis=1)\n",
    "data.shape"
   ]
  },
  {
   "cell_type": "code",
   "execution_count": 258,
   "metadata": {},
   "outputs": [
    {
     "data": {
      "text/plain": [
       "Lead Origin                                       0.00\n",
       "Lead Source                                       0.39\n",
       "Do Not Email                                      0.00\n",
       "Converted                                         0.00\n",
       "TotalVisits                                       1.50\n",
       "Total Time Spent on Website                       0.00\n",
       "Page Views Per Visit                              1.50\n",
       "Last Activity                                     1.13\n",
       "Country                                          26.90\n",
       "Specialization                                   36.79\n",
       "How did you hear about X Education               78.47\n",
       "What is your current occupation                  29.13\n",
       "What matters most to you in choosing a course    29.33\n",
       "Tags                                              0.00\n",
       "Lead Profile                                     74.20\n",
       "A free copy of Mastering The Interview            0.00\n",
       "Last Notable Activity                             0.00\n",
       "dtype: float64"
      ]
     },
     "execution_count": 258,
     "metadata": {},
     "output_type": "execute_result"
    }
   ],
   "source": [
    "# Let's check the missing values percentage in each column again\n",
    "\n",
    "round(100*data.isna().sum()/len(data),2)"
   ]
  },
  {
   "cell_type": "code",
   "execution_count": 259,
   "metadata": {},
   "outputs": [
    {
     "data": {
      "text/plain": [
       "(9149, 15)"
      ]
     },
     "execution_count": 259,
     "metadata": {},
     "output_type": "execute_result"
    }
   ],
   "source": [
    "# Let's drop the columns \"Lead Profile\" and \"How did you hear about X Education\" as they have high number of missing values (> 70%)\n",
    "\n",
    "data = data.drop([\"Lead Profile\", \"How did you hear about X Education\"], axis=1)\n",
    "data.shape"
   ]
  },
  {
   "cell_type": "code",
   "execution_count": 260,
   "metadata": {},
   "outputs": [
    {
     "data": {
      "text/plain": [
       "Lead Origin                                       0.00\n",
       "Lead Source                                       0.39\n",
       "Do Not Email                                      0.00\n",
       "Converted                                         0.00\n",
       "TotalVisits                                       1.50\n",
       "Total Time Spent on Website                       0.00\n",
       "Page Views Per Visit                              1.50\n",
       "Last Activity                                     1.13\n",
       "Country                                          26.90\n",
       "Specialization                                   36.79\n",
       "What is your current occupation                  29.13\n",
       "What matters most to you in choosing a course    29.33\n",
       "Tags                                              0.00\n",
       "A free copy of Mastering The Interview            0.00\n",
       "Last Notable Activity                             0.00\n",
       "dtype: float64"
      ]
     },
     "execution_count": 260,
     "metadata": {},
     "output_type": "execute_result"
    }
   ],
   "source": [
    "# Let's check the missing values percentage in each column again\n",
    "\n",
    "round(100*data.isna().sum()/len(data),2)"
   ]
  },
  {
   "cell_type": "code",
   "execution_count": 261,
   "metadata": {},
   "outputs": [
    {
     "data": {
      "text/plain": [
       "Specialization\n",
       "Finance Management                   16.686841\n",
       "Human Resource Management            14.490749\n",
       "Marketing Management                 14.352412\n",
       "Operations Management                 8.663324\n",
       "Business Administration               6.864949\n",
       "IT Projects Management                6.259727\n",
       "Supply Chain Management               5.965762\n",
       "Banking, Investment And Insurance     5.775549\n",
       "Media and Advertising                 3.441121\n",
       "Travel and Tourism                    3.389244\n",
       "International Business                3.026111\n",
       "Healthcare Management                 2.697562\n",
       "Hospitality Management                1.954003\n",
       "E-COMMERCE                            1.902127\n",
       "Retail Management                     1.642746\n",
       "Rural and Agribusiness                1.227736\n",
       "E-Business                            0.985648\n",
       "Services Excellence                   0.674390\n",
       "Name: proportion, dtype: float64"
      ]
     },
     "execution_count": 261,
     "metadata": {},
     "output_type": "execute_result"
    }
   ],
   "source": [
    "# Let's check the \"Specialization\" column\n",
    "\n",
    "100*data[\"Specialization\"].value_counts(normalize=True)"
   ]
  },
  {
   "cell_type": "code",
   "execution_count": 262,
   "metadata": {},
   "outputs": [],
   "source": [
    "# Let's fill the missing values in the Specialization column with \"Missing\"\n",
    "\n",
    "data.Specialization = data.Specialization.fillna(\"Missing\")\n"
   ]
  },
  {
   "cell_type": "code",
   "execution_count": 263,
   "metadata": {},
   "outputs": [
    {
     "data": {
      "text/plain": [
       "Lead Origin                                       0.00\n",
       "Lead Source                                       0.39\n",
       "Do Not Email                                      0.00\n",
       "Converted                                         0.00\n",
       "TotalVisits                                       1.50\n",
       "Total Time Spent on Website                       0.00\n",
       "Page Views Per Visit                              1.50\n",
       "Last Activity                                     1.13\n",
       "Country                                          26.90\n",
       "Specialization                                    0.00\n",
       "What is your current occupation                  29.13\n",
       "What matters most to you in choosing a course    29.33\n",
       "Tags                                              0.00\n",
       "A free copy of Mastering The Interview            0.00\n",
       "Last Notable Activity                             0.00\n",
       "dtype: float64"
      ]
     },
     "execution_count": 263,
     "metadata": {},
     "output_type": "execute_result"
    }
   ],
   "source": [
    "# Let's check the missing values percentage in each column again\n",
    "\n",
    "round(100*data.isna().sum()/len(data),2)"
   ]
  },
  {
   "cell_type": "code",
   "execution_count": 264,
   "metadata": {},
   "outputs": [
    {
     "data": {
      "text/plain": [
       "Country\n",
       "India                   95.738636\n",
       "United States            1.016746\n",
       "United Arab Emirates     0.792464\n",
       "Singapore                0.358852\n",
       "Saudi Arabia             0.313995\n",
       "United Kingdom           0.224282\n",
       "Australia                0.194378\n",
       "Qatar                    0.149522\n",
       "Hong Kong                0.104665\n",
       "Bahrain                  0.104665\n",
       "France                   0.089713\n",
       "Oman                     0.089713\n",
       "Germany                  0.059809\n",
       "unknown                  0.059809\n",
       "South Africa             0.059809\n",
       "Nigeria                  0.059809\n",
       "Kuwait                   0.059809\n",
       "Canada                   0.059809\n",
       "Sweden                   0.044856\n",
       "China                    0.029904\n",
       "Asia/Pacific Region      0.029904\n",
       "Uganda                   0.029904\n",
       "Bangladesh               0.029904\n",
       "Italy                    0.029904\n",
       "Belgium                  0.029904\n",
       "Netherlands              0.029904\n",
       "Ghana                    0.029904\n",
       "Philippines              0.029904\n",
       "Russia                   0.014952\n",
       "Switzerland              0.014952\n",
       "Vietnam                  0.014952\n",
       "Denmark                  0.014952\n",
       "Tanzania                 0.014952\n",
       "Liberia                  0.014952\n",
       "Malaysia                 0.014952\n",
       "Kenya                    0.014952\n",
       "Sri Lanka                0.014952\n",
       "Indonesia                0.014952\n",
       "Name: proportion, dtype: float64"
      ]
     },
     "execution_count": 264,
     "metadata": {},
     "output_type": "execute_result"
    }
   ],
   "source": [
    "# Let's check the 'Country' column\n",
    "\n",
    "100*data[\"Country\"].value_counts(normalize=True)"
   ]
  },
  {
   "cell_type": "code",
   "execution_count": 265,
   "metadata": {},
   "outputs": [],
   "source": [
    "# We will impute the missing values in the Country column wih \"Missing\"\n",
    "\n",
    "data['Country'] = data.Country.fillna('Missing')"
   ]
  },
  {
   "cell_type": "code",
   "execution_count": 266,
   "metadata": {},
   "outputs": [
    {
     "data": {
      "text/plain": [
       "Lead Origin                                       0.00\n",
       "Lead Source                                       0.39\n",
       "Do Not Email                                      0.00\n",
       "Converted                                         0.00\n",
       "TotalVisits                                       1.50\n",
       "Total Time Spent on Website                       0.00\n",
       "Page Views Per Visit                              1.50\n",
       "Last Activity                                     1.13\n",
       "Country                                           0.00\n",
       "Specialization                                    0.00\n",
       "What is your current occupation                  29.13\n",
       "What matters most to you in choosing a course    29.33\n",
       "Tags                                              0.00\n",
       "A free copy of Mastering The Interview            0.00\n",
       "Last Notable Activity                             0.00\n",
       "dtype: float64"
      ]
     },
     "execution_count": 266,
     "metadata": {},
     "output_type": "execute_result"
    }
   ],
   "source": [
    "# Let's check the missing values percentage in each column again\n",
    "\n",
    "round(100*data.isna().sum()/len(data),2)"
   ]
  },
  {
   "cell_type": "code",
   "execution_count": 267,
   "metadata": {},
   "outputs": [],
   "source": [
    "# Let's rename the column \"What is your current occupation\" to \"Occupation\"\n",
    "\n",
    "data.rename(columns={\"What is your current occupation\": \"Occupation\"}, inplace=True)"
   ]
  },
  {
   "cell_type": "code",
   "execution_count": 268,
   "metadata": {},
   "outputs": [
    {
     "data": {
      "text/plain": [
       "Occupation\n",
       "Unemployed              85.456508\n",
       "Working Professional    10.826650\n",
       "Student                  3.223319\n",
       "Other                    0.231339\n",
       "Housewife                0.154226\n",
       "Businessman              0.107958\n",
       "Name: proportion, dtype: float64"
      ]
     },
     "execution_count": 268,
     "metadata": {},
     "output_type": "execute_result"
    }
   ],
   "source": [
    "# Let's check the \"Occupation\" column\n",
    "\n",
    "100*data[\"Occupation\"].value_counts(normalize=True)"
   ]
  },
  {
   "cell_type": "code",
   "execution_count": 269,
   "metadata": {},
   "outputs": [],
   "source": [
    "# Let's impute the missing values of \"Occupation\" column as \"Missing\".\n",
    "data.Occupation = data.Occupation.fillna('Missing')"
   ]
  },
  {
   "cell_type": "code",
   "execution_count": 270,
   "metadata": {},
   "outputs": [
    {
     "data": {
      "text/plain": [
       "Lead Origin                                       0.00\n",
       "Lead Source                                       0.39\n",
       "Do Not Email                                      0.00\n",
       "Converted                                         0.00\n",
       "TotalVisits                                       1.50\n",
       "Total Time Spent on Website                       0.00\n",
       "Page Views Per Visit                              1.50\n",
       "Last Activity                                     1.13\n",
       "Country                                           0.00\n",
       "Specialization                                    0.00\n",
       "Occupation                                        0.00\n",
       "What matters most to you in choosing a course    29.33\n",
       "Tags                                              0.00\n",
       "A free copy of Mastering The Interview            0.00\n",
       "Last Notable Activity                             0.00\n",
       "dtype: float64"
      ]
     },
     "execution_count": 270,
     "metadata": {},
     "output_type": "execute_result"
    }
   ],
   "source": [
    "# Let's check the missing values percentage in each column again\n",
    "\n",
    "round(100*data.isna().sum()/len(data),2)"
   ]
  },
  {
   "cell_type": "code",
   "execution_count": 271,
   "metadata": {},
   "outputs": [
    {
     "data": {
      "text/plain": [
       "What matters most to you in choosing a course\n",
       "Better Career Prospects      99.953603\n",
       "Flexibility & Convenience     0.030931\n",
       "Other                         0.015466\n",
       "Name: proportion, dtype: float64"
      ]
     },
     "execution_count": 271,
     "metadata": {},
     "output_type": "execute_result"
    }
   ],
   "source": [
    "# Let's look into the \"What matters most to you in choosing a course\" column\n",
    "\n",
    "100*data[\"What matters most to you in choosing a course\"].value_counts(normalize=True)"
   ]
  },
  {
   "cell_type": "code",
   "execution_count": 272,
   "metadata": {},
   "outputs": [
    {
     "data": {
      "text/plain": [
       "(9149, 14)"
      ]
     },
     "execution_count": 272,
     "metadata": {},
     "output_type": "execute_result"
    }
   ],
   "source": [
    "# Since almost all the rows in the column have the same category \"Better Career Prospects\", let's drop the column \"What matters most to you in choosing a course\"\n",
    "\n",
    "data = data.drop(\"What matters most to you in choosing a course\", axis=1)\n",
    "data.shape"
   ]
  },
  {
   "cell_type": "code",
   "execution_count": 273,
   "metadata": {},
   "outputs": [
    {
     "data": {
      "text/plain": [
       "Lead Source\n",
       "Google               31.252058\n",
       "Direct Traffic       27.652804\n",
       "Olark Chat           19.247229\n",
       "Organic Search       12.246242\n",
       "Reference             5.848787\n",
       "Welingak Website      1.558214\n",
       "Referral Sites        1.294854\n",
       "Facebook              0.603533\n",
       "bing                  0.065840\n",
       "google                0.054867\n",
       "Click2call            0.043893\n",
       "Social Media          0.021947\n",
       "Live Chat             0.021947\n",
       "youtubechannel        0.010973\n",
       "Press_Release         0.010973\n",
       "testone               0.010973\n",
       "Pay per Click Ads     0.010973\n",
       "welearnblog_Home      0.010973\n",
       "WeLearn               0.010973\n",
       "blog                  0.010973\n",
       "NC_EDM                0.010973\n",
       "Name: proportion, dtype: float64"
      ]
     },
     "execution_count": 273,
     "metadata": {},
     "output_type": "execute_result"
    }
   ],
   "source": [
    "# Let's check \"Lead Source\" column\n",
    "\n",
    "100*data[\"Lead Source\"].value_counts(normalize=True)"
   ]
  },
  {
   "cell_type": "code",
   "execution_count": 274,
   "metadata": {},
   "outputs": [],
   "source": [
    "#  We will impute the missing values in the \"Lead Source\" column with \"Missing\"\n",
    "\n",
    "data[\"Lead Source\"] = data[\"Lead Source\"].fillna(\"Missing\")"
   ]
  },
  {
   "cell_type": "code",
   "execution_count": 275,
   "metadata": {},
   "outputs": [
    {
     "data": {
      "text/plain": [
       "Last Activity\n",
       "Email Opened                    37.663055\n",
       "SMS Sent                        30.112757\n",
       "Olark Chat Conversation         10.700862\n",
       "Page Visited on Website          6.776476\n",
       "Converted to Lead                4.731373\n",
       "Email Bounced                    3.592748\n",
       "Email Link Clicked               2.929472\n",
       "Form Submitted on Website        1.271280\n",
       "Unreachable                      1.005969\n",
       "Unsubscribed                     0.663277\n",
       "Had a Phone Conversation         0.331638\n",
       "Approached upfront               0.099491\n",
       "View in browser link Clicked     0.055273\n",
       "Email Received                   0.022109\n",
       "Email Marked Spam                0.022109\n",
       "Visited Booth in Tradeshow       0.011055\n",
       "Resubscribed to emails           0.011055\n",
       "Name: proportion, dtype: float64"
      ]
     },
     "execution_count": 275,
     "metadata": {},
     "output_type": "execute_result"
    }
   ],
   "source": [
    "# Let's check the \"Last Activity\" column\n",
    "\n",
    "100*data[\"Last Activity\"].value_counts(normalize=True)"
   ]
  },
  {
   "cell_type": "code",
   "execution_count": 276,
   "metadata": {},
   "outputs": [
    {
     "data": {
      "text/plain": [
       "Last Notable Activity\n",
       "Modified                        36.900208\n",
       "Email Opened                    30.626298\n",
       "SMS Sent                        23.587277\n",
       "Page Visited on Website          3.289977\n",
       "Olark Chat Conversation          1.989288\n",
       "Email Link Clicked               1.869057\n",
       "Email Bounced                    0.655809\n",
       "Unsubscribed                     0.502787\n",
       "Unreachable                      0.349765\n",
       "Had a Phone Conversation         0.153022\n",
       "Email Marked Spam                0.021860\n",
       "Approached upfront               0.010930\n",
       "Resubscribed to emails           0.010930\n",
       "View in browser link Clicked     0.010930\n",
       "Form Submitted on Website        0.010930\n",
       "Email Received                   0.010930\n",
       "Name: proportion, dtype: float64"
      ]
     },
     "execution_count": 276,
     "metadata": {},
     "output_type": "execute_result"
    }
   ],
   "source": [
    "# Let's check the \"Last Notable Activity\" column\n",
    "\n",
    "100*data[\"Last Notable Activity\"].value_counts(normalize=True)"
   ]
  },
  {
   "cell_type": "markdown",
   "metadata": {},
   "source": [
    "It seems that the last activity and the last notable activity are the same, except that Last Activity column is having missing categories whereas Last Notable Activity column is completely filled without missing categories. Let's drop the Last Activity column and fill the Last Notable Activity column's missing values with \"Missing\"."
   ]
  },
  {
   "cell_type": "code",
   "execution_count": 277,
   "metadata": {},
   "outputs": [
    {
     "data": {
      "text/plain": [
       "(9149, 13)"
      ]
     },
     "execution_count": 277,
     "metadata": {},
     "output_type": "execute_result"
    }
   ],
   "source": [
    "#  Let's drop the Last Activity column\n",
    "\n",
    "data = data.drop(\"Last Activity\", axis=1)\n",
    "data.shape"
   ]
  },
  {
   "cell_type": "code",
   "execution_count": 278,
   "metadata": {},
   "outputs": [],
   "source": [
    "# Let's fill the \"Last Notable Activity\" column missing values with \"Missing\"\n",
    "\n",
    "data[\"Last Notable Activity\"] = data[\"Last Notable Activity\"].fillna(\"Missing\")"
   ]
  },
  {
   "cell_type": "code",
   "execution_count": 279,
   "metadata": {},
   "outputs": [
    {
     "data": {
      "text/plain": [
       "Lead Origin                               0.0\n",
       "Lead Source                               0.0\n",
       "Do Not Email                              0.0\n",
       "Converted                                 0.0\n",
       "TotalVisits                               1.5\n",
       "Total Time Spent on Website               0.0\n",
       "Page Views Per Visit                      1.5\n",
       "Country                                   0.0\n",
       "Specialization                            0.0\n",
       "Occupation                                0.0\n",
       "Tags                                      0.0\n",
       "A free copy of Mastering The Interview    0.0\n",
       "Last Notable Activity                     0.0\n",
       "dtype: float64"
      ]
     },
     "execution_count": 279,
     "metadata": {},
     "output_type": "execute_result"
    }
   ],
   "source": [
    "# Let's check the missing values percentage in each column again\n",
    "\n",
    "round(100*data.isna().sum()/len(data),2)"
   ]
  },
  {
   "cell_type": "code",
   "execution_count": 280,
   "metadata": {},
   "outputs": [
    {
     "data": {
      "text/html": [
       "<div>\n",
       "<style scoped>\n",
       "    .dataframe tbody tr th:only-of-type {\n",
       "        vertical-align: middle;\n",
       "    }\n",
       "\n",
       "    .dataframe tbody tr th {\n",
       "        vertical-align: top;\n",
       "    }\n",
       "\n",
       "    .dataframe thead th {\n",
       "        text-align: right;\n",
       "    }\n",
       "</style>\n",
       "<table border=\"1\" class=\"dataframe\">\n",
       "  <thead>\n",
       "    <tr style=\"text-align: right;\">\n",
       "      <th></th>\n",
       "      <th>Converted</th>\n",
       "      <th>TotalVisits</th>\n",
       "      <th>Total Time Spent on Website</th>\n",
       "      <th>Page Views Per Visit</th>\n",
       "    </tr>\n",
       "  </thead>\n",
       "  <tbody>\n",
       "    <tr>\n",
       "      <th>count</th>\n",
       "      <td>9149.000000</td>\n",
       "      <td>9012.000000</td>\n",
       "      <td>9149.000000</td>\n",
       "      <td>9012.000000</td>\n",
       "    </tr>\n",
       "    <tr>\n",
       "      <th>mean</th>\n",
       "      <td>0.385179</td>\n",
       "      <td>3.223591</td>\n",
       "      <td>485.813204</td>\n",
       "      <td>2.292410</td>\n",
       "    </tr>\n",
       "    <tr>\n",
       "      <th>std</th>\n",
       "      <td>0.486664</td>\n",
       "      <td>3.080153</td>\n",
       "      <td>547.623238</td>\n",
       "      <td>1.934285</td>\n",
       "    </tr>\n",
       "    <tr>\n",
       "      <th>min</th>\n",
       "      <td>0.000000</td>\n",
       "      <td>0.000000</td>\n",
       "      <td>0.000000</td>\n",
       "      <td>0.000000</td>\n",
       "    </tr>\n",
       "    <tr>\n",
       "      <th>25%</th>\n",
       "      <td>0.000000</td>\n",
       "      <td>1.000000</td>\n",
       "      <td>10.000000</td>\n",
       "      <td>1.000000</td>\n",
       "    </tr>\n",
       "    <tr>\n",
       "      <th>50%</th>\n",
       "      <td>0.000000</td>\n",
       "      <td>3.000000</td>\n",
       "      <td>247.000000</td>\n",
       "      <td>2.000000</td>\n",
       "    </tr>\n",
       "    <tr>\n",
       "      <th>75%</th>\n",
       "      <td>1.000000</td>\n",
       "      <td>5.000000</td>\n",
       "      <td>932.000000</td>\n",
       "      <td>3.000000</td>\n",
       "    </tr>\n",
       "    <tr>\n",
       "      <th>max</th>\n",
       "      <td>1.000000</td>\n",
       "      <td>20.000000</td>\n",
       "      <td>2272.000000</td>\n",
       "      <td>10.000000</td>\n",
       "    </tr>\n",
       "  </tbody>\n",
       "</table>\n",
       "</div>"
      ],
      "text/plain": [
       "         Converted  TotalVisits  Total Time Spent on Website  \\\n",
       "count  9149.000000  9012.000000                  9149.000000   \n",
       "mean      0.385179     3.223591                   485.813204   \n",
       "std       0.486664     3.080153                   547.623238   \n",
       "min       0.000000     0.000000                     0.000000   \n",
       "25%       0.000000     1.000000                    10.000000   \n",
       "50%       0.000000     3.000000                   247.000000   \n",
       "75%       1.000000     5.000000                   932.000000   \n",
       "max       1.000000    20.000000                  2272.000000   \n",
       "\n",
       "       Page Views Per Visit  \n",
       "count           9012.000000  \n",
       "mean               2.292410  \n",
       "std                1.934285  \n",
       "min                0.000000  \n",
       "25%                1.000000  \n",
       "50%                2.000000  \n",
       "75%                3.000000  \n",
       "max               10.000000  "
      ]
     },
     "execution_count": 280,
     "metadata": {},
     "output_type": "execute_result"
    }
   ],
   "source": [
    "# Let's see the data description\n",
    "\n",
    "data.describe()"
   ]
  },
  {
   "cell_type": "code",
   "execution_count": 281,
   "metadata": {},
   "outputs": [],
   "source": [
    "# We will impute the columns \"TotalVisits\" and \"Page Views Per Visit\" with their mean values\n",
    "\n",
    "data[\"TotalVisits\"] = data[\"TotalVisits\"].fillna(data[\"TotalVisits\"].mean())\n",
    "data[\"Page Views Per Visit\"] = data[\"Page Views Per Visit\"].fillna(data[\"Page Views Per Visit\"].mean()) "
   ]
  },
  {
   "cell_type": "code",
   "execution_count": 282,
   "metadata": {},
   "outputs": [
    {
     "name": "stdout",
     "output_type": "stream",
     "text": [
      "<class 'pandas.core.frame.DataFrame'>\n",
      "Index: 9149 entries, 0 to 9239\n",
      "Data columns (total 13 columns):\n",
      " #   Column                                  Non-Null Count  Dtype  \n",
      "---  ------                                  --------------  -----  \n",
      " 0   Lead Origin                             9149 non-null   object \n",
      " 1   Lead Source                             9149 non-null   object \n",
      " 2   Do Not Email                            9149 non-null   object \n",
      " 3   Converted                               9149 non-null   int64  \n",
      " 4   TotalVisits                             9149 non-null   float64\n",
      " 5   Total Time Spent on Website             9149 non-null   int64  \n",
      " 6   Page Views Per Visit                    9149 non-null   float64\n",
      " 7   Country                                 9149 non-null   object \n",
      " 8   Specialization                          9149 non-null   object \n",
      " 9   Occupation                              9149 non-null   object \n",
      " 10  Tags                                    9149 non-null   object \n",
      " 11  A free copy of Mastering The Interview  9149 non-null   object \n",
      " 12  Last Notable Activity                   9149 non-null   object \n",
      "dtypes: float64(2), int64(2), object(9)\n",
      "memory usage: 1000.7+ KB\n"
     ]
    }
   ],
   "source": [
    "# Let's have an overview of the data\n",
    "\n",
    "data.info()"
   ]
  },
  {
   "cell_type": "code",
   "execution_count": 283,
   "metadata": {},
   "outputs": [
    {
     "data": {
      "image/png": "[encoded data removed]",
      "text/plain": [
       "<Figure size 833.486x750 with 9 Axes>"
      ]
     },
     "metadata": {},
     "output_type": "display_data"
    }
   ],
   "source": [
    "# Let's plot the data for all the columns vs \"Converted\" column\n",
    "\n",
    "sns.pairplot(data, hue=\"Converted\", corner=True)\n",
    "plt.show()"
   ]
  },
  {
   "cell_type": "markdown",
   "metadata": {},
   "source": [
    "Some correlation between Page Views Per Visit and TotalVisits columns exists"
   ]
  },
  {
   "cell_type": "code",
   "execution_count": 284,
   "metadata": {},
   "outputs": [
    {
     "data": {
      "image/png": "[encoded data removed]",
      "text/plain": [
       "<Figure size 640x480 with 2 Axes>"
      ]
     },
     "metadata": {},
     "output_type": "display_data"
    }
   ],
   "source": [
    "# Let's plot a heatmap of the data\n",
    "mask = np.triu(np.ones_like(data.corr(numeric_only=True)))\n",
    "sns.heatmap(data.corr(numeric_only=True), annot=True, mask=mask, cmap='RdYlGn')\n",
    "plt.show()"
   ]
  },
  {
   "cell_type": "markdown",
   "metadata": {},
   "source": [
    "A correlation of 0.7 exists between Page Views Per Visit and TotalVisits columns. Hence we can drop the Page Views Per Visit column"
   ]
  },
  {
   "cell_type": "code",
   "execution_count": 285,
   "metadata": {},
   "outputs": [
    {
     "data": {
      "text/plain": [
       "(9149, 12)"
      ]
     },
     "execution_count": 285,
     "metadata": {},
     "output_type": "execute_result"
    }
   ],
   "source": [
    "# Let's drop the Page Views Per Visit column\n",
    "\n",
    "data = data.drop(\"Page Views Per Visit\", axis=1)\n",
    "data.shape"
   ]
  },
  {
   "cell_type": "code",
   "execution_count": 286,
   "metadata": {},
   "outputs": [],
   "source": [
    "# Let's rename the column \"A free copy of Mastering The Interview\" to \"SampleInterviewCourse\"\n",
    "\n",
    "data.rename(columns={\"A free copy of Mastering The Interview\": \"SampleInterviewCourse\"}, inplace=True)"
   ]
  },
  {
   "cell_type": "code",
   "execution_count": 287,
   "metadata": {},
   "outputs": [
    {
     "data": {
      "text/plain": [
       "(9149, 133)"
      ]
     },
     "execution_count": 287,
     "metadata": {},
     "output_type": "execute_result"
    }
   ],
   "source": [
    "# Let's create dummies for each categorical column\n",
    "\n",
    "cat_cols = [i for i in data.columns if data[i].dtype =='object']\n",
    "\n",
    "data = pd.get_dummies(data, columns=cat_cols, drop_first=True, dtype=int)\n",
    "data.shape"
   ]
  },
  {
   "cell_type": "code",
   "execution_count": 288,
   "metadata": {},
   "outputs": [
    {
     "data": {
      "text/html": [
       "<div>\n",
       "<style scoped>\n",
       "    .dataframe tbody tr th:only-of-type {\n",
       "        vertical-align: middle;\n",
       "    }\n",
       "\n",
       "    .dataframe tbody tr th {\n",
       "        vertical-align: top;\n",
       "    }\n",
       "\n",
       "    .dataframe thead th {\n",
       "        text-align: right;\n",
       "    }\n",
       "</style>\n",
       "<table border=\"1\" class=\"dataframe\">\n",
       "  <thead>\n",
       "    <tr style=\"text-align: right;\">\n",
       "      <th></th>\n",
       "      <th>Converted</th>\n",
       "      <th>TotalVisits</th>\n",
       "      <th>Total Time Spent on Website</th>\n",
       "      <th>Lead Origin_Landing Page Submission</th>\n",
       "      <th>Lead Origin_Lead Add Form</th>\n",
       "      <th>Lead Origin_Lead Import</th>\n",
       "      <th>Lead Origin_Quick Add Form</th>\n",
       "      <th>Lead Source_Direct Traffic</th>\n",
       "      <th>Lead Source_Facebook</th>\n",
       "      <th>Lead Source_Google</th>\n",
       "      <th>...</th>\n",
       "      <th>Last Notable Activity_Form Submitted on Website</th>\n",
       "      <th>Last Notable Activity_Had a Phone Conversation</th>\n",
       "      <th>Last Notable Activity_Modified</th>\n",
       "      <th>Last Notable Activity_Olark Chat Conversation</th>\n",
       "      <th>Last Notable Activity_Page Visited on Website</th>\n",
       "      <th>Last Notable Activity_Resubscribed to emails</th>\n",
       "      <th>Last Notable Activity_SMS Sent</th>\n",
       "      <th>Last Notable Activity_Unreachable</th>\n",
       "      <th>Last Notable Activity_Unsubscribed</th>\n",
       "      <th>Last Notable Activity_View in browser link Clicked</th>\n",
       "    </tr>\n",
       "  </thead>\n",
       "  <tbody>\n",
       "    <tr>\n",
       "      <th>0</th>\n",
       "      <td>0</td>\n",
       "      <td>0.0</td>\n",
       "      <td>0</td>\n",
       "      <td>0</td>\n",
       "      <td>0</td>\n",
       "      <td>0</td>\n",
       "      <td>0</td>\n",
       "      <td>0</td>\n",
       "      <td>0</td>\n",
       "      <td>0</td>\n",
       "      <td>...</td>\n",
       "      <td>0</td>\n",
       "      <td>0</td>\n",
       "      <td>1</td>\n",
       "      <td>0</td>\n",
       "      <td>0</td>\n",
       "      <td>0</td>\n",
       "      <td>0</td>\n",
       "      <td>0</td>\n",
       "      <td>0</td>\n",
       "      <td>0</td>\n",
       "    </tr>\n",
       "    <tr>\n",
       "      <th>1</th>\n",
       "      <td>0</td>\n",
       "      <td>5.0</td>\n",
       "      <td>674</td>\n",
       "      <td>0</td>\n",
       "      <td>0</td>\n",
       "      <td>0</td>\n",
       "      <td>0</td>\n",
       "      <td>0</td>\n",
       "      <td>0</td>\n",
       "      <td>0</td>\n",
       "      <td>...</td>\n",
       "      <td>0</td>\n",
       "      <td>0</td>\n",
       "      <td>0</td>\n",
       "      <td>0</td>\n",
       "      <td>0</td>\n",
       "      <td>0</td>\n",
       "      <td>0</td>\n",
       "      <td>0</td>\n",
       "      <td>0</td>\n",
       "      <td>0</td>\n",
       "    </tr>\n",
       "    <tr>\n",
       "      <th>2</th>\n",
       "      <td>1</td>\n",
       "      <td>2.0</td>\n",
       "      <td>1532</td>\n",
       "      <td>1</td>\n",
       "      <td>0</td>\n",
       "      <td>0</td>\n",
       "      <td>0</td>\n",
       "      <td>1</td>\n",
       "      <td>0</td>\n",
       "      <td>0</td>\n",
       "      <td>...</td>\n",
       "      <td>0</td>\n",
       "      <td>0</td>\n",
       "      <td>0</td>\n",
       "      <td>0</td>\n",
       "      <td>0</td>\n",
       "      <td>0</td>\n",
       "      <td>0</td>\n",
       "      <td>0</td>\n",
       "      <td>0</td>\n",
       "      <td>0</td>\n",
       "    </tr>\n",
       "    <tr>\n",
       "      <th>3</th>\n",
       "      <td>0</td>\n",
       "      <td>1.0</td>\n",
       "      <td>305</td>\n",
       "      <td>1</td>\n",
       "      <td>0</td>\n",
       "      <td>0</td>\n",
       "      <td>0</td>\n",
       "      <td>1</td>\n",
       "      <td>0</td>\n",
       "      <td>0</td>\n",
       "      <td>...</td>\n",
       "      <td>0</td>\n",
       "      <td>0</td>\n",
       "      <td>1</td>\n",
       "      <td>0</td>\n",
       "      <td>0</td>\n",
       "      <td>0</td>\n",
       "      <td>0</td>\n",
       "      <td>0</td>\n",
       "      <td>0</td>\n",
       "      <td>0</td>\n",
       "    </tr>\n",
       "    <tr>\n",
       "      <th>4</th>\n",
       "      <td>1</td>\n",
       "      <td>2.0</td>\n",
       "      <td>1428</td>\n",
       "      <td>1</td>\n",
       "      <td>0</td>\n",
       "      <td>0</td>\n",
       "      <td>0</td>\n",
       "      <td>0</td>\n",
       "      <td>0</td>\n",
       "      <td>1</td>\n",
       "      <td>...</td>\n",
       "      <td>0</td>\n",
       "      <td>0</td>\n",
       "      <td>1</td>\n",
       "      <td>0</td>\n",
       "      <td>0</td>\n",
       "      <td>0</td>\n",
       "      <td>0</td>\n",
       "      <td>0</td>\n",
       "      <td>0</td>\n",
       "      <td>0</td>\n",
       "    </tr>\n",
       "  </tbody>\n",
       "</table>\n",
       "<p>5 rows × 133 columns</p>\n",
       "</div>"
      ],
      "text/plain": [
       "   Converted  TotalVisits  Total Time Spent on Website  \\\n",
       "0          0          0.0                            0   \n",
       "1          0          5.0                          674   \n",
       "2          1          2.0                         1532   \n",
       "3          0          1.0                          305   \n",
       "4          1          2.0                         1428   \n",
       "\n",
       "   Lead Origin_Landing Page Submission  Lead Origin_Lead Add Form  \\\n",
       "0                                    0                          0   \n",
       "1                                    0                          0   \n",
       "2                                    1                          0   \n",
       "3                                    1                          0   \n",
       "4                                    1                          0   \n",
       "\n",
       "   Lead Origin_Lead Import  Lead Origin_Quick Add Form  \\\n",
       "0                        0                           0   \n",
       "1                        0                           0   \n",
       "2                        0                           0   \n",
       "3                        0                           0   \n",
       "4                        0                           0   \n",
       "\n",
       "   Lead Source_Direct Traffic  Lead Source_Facebook  Lead Source_Google  ...  \\\n",
       "0                           0                     0                   0  ...   \n",
       "1                           0                     0                   0  ...   \n",
       "2                           1                     0                   0  ...   \n",
       "3                           1                     0                   0  ...   \n",
       "4                           0                     0                   1  ...   \n",
       "\n",
       "   Last Notable Activity_Form Submitted on Website  \\\n",
       "0                                                0   \n",
       "1                                                0   \n",
       "2                                                0   \n",
       "3                                                0   \n",
       "4                                                0   \n",
       "\n",
       "   Last Notable Activity_Had a Phone Conversation  \\\n",
       "0                                               0   \n",
       "1                                               0   \n",
       "2                                               0   \n",
       "3                                               0   \n",
       "4                                               0   \n",
       "\n",
       "   Last Notable Activity_Modified  \\\n",
       "0                               1   \n",
       "1                               0   \n",
       "2                               0   \n",
       "3                               1   \n",
       "4                               1   \n",
       "\n",
       "   Last Notable Activity_Olark Chat Conversation  \\\n",
       "0                                              0   \n",
       "1                                              0   \n",
       "2                                              0   \n",
       "3                                              0   \n",
       "4                                              0   \n",
       "\n",
       "   Last Notable Activity_Page Visited on Website  \\\n",
       "0                                              0   \n",
       "1                                              0   \n",
       "2                                              0   \n",
       "3                                              0   \n",
       "4                                              0   \n",
       "\n",
       "   Last Notable Activity_Resubscribed to emails  \\\n",
       "0                                             0   \n",
       "1                                             0   \n",
       "2                                             0   \n",
       "3                                             0   \n",
       "4                                             0   \n",
       "\n",
       "   Last Notable Activity_SMS Sent  Last Notable Activity_Unreachable  \\\n",
       "0                               0                                  0   \n",
       "1                               0                                  0   \n",
       "2                               0                                  0   \n",
       "3                               0                                  0   \n",
       "4                               0                                  0   \n",
       "\n",
       "   Last Notable Activity_Unsubscribed  \\\n",
       "0                                   0   \n",
       "1                                   0   \n",
       "2                                   0   \n",
       "3                                   0   \n",
       "4                                   0   \n",
       "\n",
       "   Last Notable Activity_View in browser link Clicked  \n",
       "0                                                  0   \n",
       "1                                                  0   \n",
       "2                                                  0   \n",
       "3                                                  0   \n",
       "4                                                  0   \n",
       "\n",
       "[5 rows x 133 columns]"
      ]
     },
     "execution_count": 288,
     "metadata": {},
     "output_type": "execute_result"
    }
   ],
   "source": [
    "# Let's view the data \n",
    "\n",
    "data.head()"
   ]
  },
  {
   "cell_type": "code",
   "execution_count": 205,
   "metadata": {},
   "outputs": [],
   "source": [
    "# Let's split the data into test and training data\n",
    "\n",
    "X = data.drop(\"Converted\", axis=1)\n",
    "y = data[\"Converted\"]\n",
    "\n",
    "X_train, X_test, y_train, y_test = train_test_split(X, y, test_size=0.3, random_state=42)"
   ]
  },
  {
   "cell_type": "code",
   "execution_count": 206,
   "metadata": {},
   "outputs": [],
   "source": [
    "# Let's Normalize the X_train and X_test\n",
    "\n",
    "scaler = MinMaxScaler()\n",
    "\n",
    "X_train = pd.DataFrame(scaler.fit_transform(X_train),columns=X_train.columns)\n",
    "X_test = pd.DataFrame(scaler.transform(X_test), columns=X_test.columns)"
   ]
  },
  {
   "cell_type": "code",
   "execution_count": 207,
   "metadata": {},
   "outputs": [
    {
     "data": {
      "text/html": [
       "<style>#sk-container-id-2 {\n",
       "  /* Definition of color scheme common for light and dark mode */\n",
       "  --sklearn-color-text: black;\n",
       "  --sklearn-color-line: gray;\n",
       "  /* Definition of color scheme for unfitted estimators */\n",
       "  --sklearn-color-unfitted-level-0: #fff5e6;\n",
       "  --sklearn-color-unfitted-level-1: #f6e4d2;\n",
       "  --sklearn-color-unfitted-level-2: #ffe0b3;\n",
       "  --sklearn-color-unfitted-level-3: chocolate;\n",
       "  /* Definition of color scheme for fitted estimators */\n",
       "  --sklearn-color-fitted-level-0: #f0f8ff;\n",
       "  --sklearn-color-fitted-level-1: #d4ebff;\n",
       "  --sklearn-color-fitted-level-2: #b3dbfd;\n",
       "  --sklearn-color-fitted-level-3: cornflowerblue;\n",
       "\n",
       "  /* Specific color for light theme */\n",
       "  --sklearn-color-text-on-default-background: var(--sg-text-color, var(--theme-code-foreground, var(--jp-content-font-color1, black)));\n",
       "  --sklearn-color-background: var(--sg-background-color, var(--theme-background, var(--jp-layout-color0, white)));\n",
       "  --sklearn-color-border-box: var(--sg-text-color, var(--theme-code-foreground, var(--jp-content-font-color1, black)));\n",
       "  --sklearn-color-icon: #696969;\n",
       "\n",
       "  @media (prefers-color-scheme: dark) {\n",
       "    /* Redefinition of color scheme for dark theme */\n",
       "    --sklearn-color-text-on-default-background: var(--sg-text-color, var(--theme-code-foreground, var(--jp-content-font-color1, white)));\n",
       "    --sklearn-color-background: var(--sg-background-color, var(--theme-background, var(--jp-layout-color0, #111)));\n",
       "    --sklearn-color-border-box: var(--sg-text-color, var(--theme-code-foreground, var(--jp-content-font-color1, white)));\n",
       "    --sklearn-color-icon: #878787;\n",
       "  }\n",
       "}\n",
       "\n",
       "#sk-container-id-2 {\n",
       "  color: var(--sklearn-color-text);\n",
       "}\n",
       "\n",
       "#sk-container-id-2 pre {\n",
       "  padding: 0;\n",
       "}\n",
       "\n",
       "#sk-container-id-2 input.sk-hidden--visually {\n",
       "  border: 0;\n",
       "  clip: rect(1px 1px 1px 1px);\n",
       "  clip: rect(1px, 1px, 1px, 1px);\n",
       "  height: 1px;\n",
       "  margin: -1px;\n",
       "  overflow: hidden;\n",
       "  padding: 0;\n",
       "  position: absolute;\n",
       "  width: 1px;\n",
       "}\n",
       "\n",
       "#sk-container-id-2 div.sk-dashed-wrapped {\n",
       "  border: 1px dashed var(--sklearn-color-line);\n",
       "  margin: 0 0.4em 0.5em 0.4em;\n",
       "  box-sizing: border-box;\n",
       "  padding-bottom: 0.4em;\n",
       "  background-color: var(--sklearn-color-background);\n",
       "}\n",
       "\n",
       "#sk-container-id-2 div.sk-container {\n",
       "  /* jupyter's `normalize.less` sets `[hidden] { display: none; }`\n",
       "     but bootstrap.min.css set `[hidden] { display: none !important; }`\n",
       "     so we also need the `!important` here to be able to override the\n",
       "     default hidden behavior on the sphinx rendered scikit-learn.org.\n",
       "     See: https://github.com/scikit-learn/scikit-learn/issues/21755 */\n",
       "  display: inline-block !important;\n",
       "  position: relative;\n",
       "}\n",
       "\n",
       "#sk-container-id-2 div.sk-text-repr-fallback {\n",
       "  display: none;\n",
       "}\n",
       "\n",
       "div.sk-parallel-item,\n",
       "div.sk-serial,\n",
       "div.sk-item {\n",
       "  /* draw centered vertical line to link estimators */\n",
       "  background-image: linear-gradient(var(--sklearn-color-text-on-default-background), var(--sklearn-color-text-on-default-background));\n",
       "  background-size: 2px 100%;\n",
       "  background-repeat: no-repeat;\n",
       "  background-position: center center;\n",
       "}\n",
       "\n",
       "/* Parallel-specific style estimator block */\n",
       "\n",
       "#sk-container-id-2 div.sk-parallel-item::after {\n",
       "  content: \"\";\n",
       "  width: 100%;\n",
       "  border-bottom: 2px solid var(--sklearn-color-text-on-default-background);\n",
       "  flex-grow: 1;\n",
       "}\n",
       "\n",
       "#sk-container-id-2 div.sk-parallel {\n",
       "  display: flex;\n",
       "  align-items: stretch;\n",
       "  justify-content: center;\n",
       "  background-color: var(--sklearn-color-background);\n",
       "  position: relative;\n",
       "}\n",
       "\n",
       "#sk-container-id-2 div.sk-parallel-item {\n",
       "  display: flex;\n",
       "  flex-direction: column;\n",
       "}\n",
       "\n",
       "#sk-container-id-2 div.sk-parallel-item:first-child::after {\n",
       "  align-self: flex-end;\n",
       "  width: 50%;\n",
       "}\n",
       "\n",
       "#sk-container-id-2 div.sk-parallel-item:last-child::after {\n",
       "  align-self: flex-start;\n",
       "  width: 50%;\n",
       "}\n",
       "\n",
       "#sk-container-id-2 div.sk-parallel-item:only-child::after {\n",
       "  width: 0;\n",
       "}\n",
       "\n",
       "/* Serial-specific style estimator block */\n",
       "\n",
       "#sk-container-id-2 div.sk-serial {\n",
       "  display: flex;\n",
       "  flex-direction: column;\n",
       "  align-items: center;\n",
       "  background-color: var(--sklearn-color-background);\n",
       "  padding-right: 1em;\n",
       "  padding-left: 1em;\n",
       "}\n",
       "\n",
       "\n",
       "/* Toggleable style: style used for estimator/Pipeline/ColumnTransformer box that is\n",
       "clickable and can be expanded/collapsed.\n",
       "- Pipeline and ColumnTransformer use this feature and define the default style\n",
       "- Estimators will overwrite some part of the style using the `sk-estimator` class\n",
       "*/\n",
       "\n",
       "/* Pipeline and ColumnTransformer style (default) */\n",
       "\n",
       "#sk-container-id-2 div.sk-toggleable {\n",
       "  /* Default theme specific background. It is overwritten whether we have a\n",
       "  specific estimator or a Pipeline/ColumnTransformer */\n",
       "  background-color: var(--sklearn-color-background);\n",
       "}\n",
       "\n",
       "/* Toggleable label */\n",
       "#sk-container-id-2 label.sk-toggleable__label {\n",
       "  cursor: pointer;\n",
       "  display: block;\n",
       "  width: 100%;\n",
       "  margin-bottom: 0;\n",
       "  padding: 0.5em;\n",
       "  box-sizing: border-box;\n",
       "  text-align: center;\n",
       "}\n",
       "\n",
       "#sk-container-id-2 label.sk-toggleable__label-arrow:before {\n",
       "  /* Arrow on the left of the label */\n",
       "  content: \"▸\";\n",
       "  float: left;\n",
       "  margin-right: 0.25em;\n",
       "  color: var(--sklearn-color-icon);\n",
       "}\n",
       "\n",
       "#sk-container-id-2 label.sk-toggleable__label-arrow:hover:before {\n",
       "  color: var(--sklearn-color-text);\n",
       "}\n",
       "\n",
       "/* Toggleable content - dropdown */\n",
       "\n",
       "#sk-container-id-2 div.sk-toggleable__content {\n",
       "  max-height: 0;\n",
       "  max-width: 0;\n",
       "  overflow: hidden;\n",
       "  text-align: left;\n",
       "  /* unfitted */\n",
       "  background-color: var(--sklearn-color-unfitted-level-0);\n",
       "}\n",
       "\n",
       "#sk-container-id-2 div.sk-toggleable__content.fitted {\n",
       "  /* fitted */\n",
       "  background-color: var(--sklearn-color-fitted-level-0);\n",
       "}\n",
       "\n",
       "#sk-container-id-2 div.sk-toggleable__content pre {\n",
       "  margin: 0.2em;\n",
       "  border-radius: 0.25em;\n",
       "  color: var(--sklearn-color-text);\n",
       "  /* unfitted */\n",
       "  background-color: var(--sklearn-color-unfitted-level-0);\n",
       "}\n",
       "\n",
       "#sk-container-id-2 div.sk-toggleable__content.fitted pre {\n",
       "  /* unfitted */\n",
       "  background-color: var(--sklearn-color-fitted-level-0);\n",
       "}\n",
       "\n",
       "#sk-container-id-2 input.sk-toggleable__control:checked~div.sk-toggleable__content {\n",
       "  /* Expand drop-down */\n",
       "  max-height: 200px;\n",
       "  max-width: 100%;\n",
       "  overflow: auto;\n",
       "}\n",
       "\n",
       "#sk-container-id-2 input.sk-toggleable__control:checked~label.sk-toggleable__label-arrow:before {\n",
       "  content: \"▾\";\n",
       "}\n",
       "\n",
       "/* Pipeline/ColumnTransformer-specific style */\n",
       "\n",
       "#sk-container-id-2 div.sk-label input.sk-toggleable__control:checked~label.sk-toggleable__label {\n",
       "  color: var(--sklearn-color-text);\n",
       "  background-color: var(--sklearn-color-unfitted-level-2);\n",
       "}\n",
       "\n",
       "#sk-container-id-2 div.sk-label.fitted input.sk-toggleable__control:checked~label.sk-toggleable__label {\n",
       "  background-color: var(--sklearn-color-fitted-level-2);\n",
       "}\n",
       "\n",
       "/* Estimator-specific style */\n",
       "\n",
       "/* Colorize estimator box */\n",
       "#sk-container-id-2 div.sk-estimator input.sk-toggleable__control:checked~label.sk-toggleable__label {\n",
       "  /* unfitted */\n",
       "  background-color: var(--sklearn-color-unfitted-level-2);\n",
       "}\n",
       "\n",
       "#sk-container-id-2 div.sk-estimator.fitted input.sk-toggleable__control:checked~label.sk-toggleable__label {\n",
       "  /* fitted */\n",
       "  background-color: var(--sklearn-color-fitted-level-2);\n",
       "}\n",
       "\n",
       "#sk-container-id-2 div.sk-label label.sk-toggleable__label,\n",
       "#sk-container-id-2 div.sk-label label {\n",
       "  /* The background is the default theme color */\n",
       "  color: var(--sklearn-color-text-on-default-background);\n",
       "}\n",
       "\n",
       "/* On hover, darken the color of the background */\n",
       "#sk-container-id-2 div.sk-label:hover label.sk-toggleable__label {\n",
       "  color: var(--sklearn-color-text);\n",
       "  background-color: var(--sklearn-color-unfitted-level-2);\n",
       "}\n",
       "\n",
       "/* Label box, darken color on hover, fitted */\n",
       "#sk-container-id-2 div.sk-label.fitted:hover label.sk-toggleable__label.fitted {\n",
       "  color: var(--sklearn-color-text);\n",
       "  background-color: var(--sklearn-color-fitted-level-2);\n",
       "}\n",
       "\n",
       "/* Estimator label */\n",
       "\n",
       "#sk-container-id-2 div.sk-label label {\n",
       "  font-family: monospace;\n",
       "  font-weight: bold;\n",
       "  display: inline-block;\n",
       "  line-height: 1.2em;\n",
       "}\n",
       "\n",
       "#sk-container-id-2 div.sk-label-container {\n",
       "  text-align: center;\n",
       "}\n",
       "\n",
       "/* Estimator-specific */\n",
       "#sk-container-id-2 div.sk-estimator {\n",
       "  font-family: monospace;\n",
       "  border: 1px dotted var(--sklearn-color-border-box);\n",
       "  border-radius: 0.25em;\n",
       "  box-sizing: border-box;\n",
       "  margin-bottom: 0.5em;\n",
       "  /* unfitted */\n",
       "  background-color: var(--sklearn-color-unfitted-level-0);\n",
       "}\n",
       "\n",
       "#sk-container-id-2 div.sk-estimator.fitted {\n",
       "  /* fitted */\n",
       "  background-color: var(--sklearn-color-fitted-level-0);\n",
       "}\n",
       "\n",
       "/* on hover */\n",
       "#sk-container-id-2 div.sk-estimator:hover {\n",
       "  /* unfitted */\n",
       "  background-color: var(--sklearn-color-unfitted-level-2);\n",
       "}\n",
       "\n",
       "#sk-container-id-2 div.sk-estimator.fitted:hover {\n",
       "  /* fitted */\n",
       "  background-color: var(--sklearn-color-fitted-level-2);\n",
       "}\n",
       "\n",
       "/* Specification for estimator info (e.g. \"i\" and \"?\") */\n",
       "\n",
       "/* Common style for \"i\" and \"?\" */\n",
       "\n",
       ".sk-estimator-doc-link,\n",
       "a:link.sk-estimator-doc-link,\n",
       "a:visited.sk-estimator-doc-link {\n",
       "  float: right;\n",
       "  font-size: smaller;\n",
       "  line-height: 1em;\n",
       "  font-family: monospace;\n",
       "  background-color: var(--sklearn-color-background);\n",
       "  border-radius: 1em;\n",
       "  height: 1em;\n",
       "  width: 1em;\n",
       "  text-decoration: none !important;\n",
       "  margin-left: 1ex;\n",
       "  /* unfitted */\n",
       "  border: var(--sklearn-color-unfitted-level-1) 1pt solid;\n",
       "  color: var(--sklearn-color-unfitted-level-1);\n",
       "}\n",
       "\n",
       ".sk-estimator-doc-link.fitted,\n",
       "a:link.sk-estimator-doc-link.fitted,\n",
       "a:visited.sk-estimator-doc-link.fitted {\n",
       "  /* fitted */\n",
       "  border: var(--sklearn-color-fitted-level-1) 1pt solid;\n",
       "  color: var(--sklearn-color-fitted-level-1);\n",
       "}\n",
       "\n",
       "/* On hover */\n",
       "div.sk-estimator:hover .sk-estimator-doc-link:hover,\n",
       ".sk-estimator-doc-link:hover,\n",
       "div.sk-label-container:hover .sk-estimator-doc-link:hover,\n",
       ".sk-estimator-doc-link:hover {\n",
       "  /* unfitted */\n",
       "  background-color: var(--sklearn-color-unfitted-level-3);\n",
       "  color: var(--sklearn-color-background);\n",
       "  text-decoration: none;\n",
       "}\n",
       "\n",
       "div.sk-estimator.fitted:hover .sk-estimator-doc-link.fitted:hover,\n",
       ".sk-estimator-doc-link.fitted:hover,\n",
       "div.sk-label-container:hover .sk-estimator-doc-link.fitted:hover,\n",
       ".sk-estimator-doc-link.fitted:hover {\n",
       "  /* fitted */\n",
       "  background-color: var(--sklearn-color-fitted-level-3);\n",
       "  color: var(--sklearn-color-background);\n",
       "  text-decoration: none;\n",
       "}\n",
       "\n",
       "/* Span, style for the box shown on hovering the info icon */\n",
       ".sk-estimator-doc-link span {\n",
       "  display: none;\n",
       "  z-index: 9999;\n",
       "  position: relative;\n",
       "  font-weight: normal;\n",
       "  right: .2ex;\n",
       "  padding: .5ex;\n",
       "  margin: .5ex;\n",
       "  width: min-content;\n",
       "  min-width: 20ex;\n",
       "  max-width: 50ex;\n",
       "  color: var(--sklearn-color-text);\n",
       "  box-shadow: 2pt 2pt 4pt #999;\n",
       "  /* unfitted */\n",
       "  background: var(--sklearn-color-unfitted-level-0);\n",
       "  border: .5pt solid var(--sklearn-color-unfitted-level-3);\n",
       "}\n",
       "\n",
       ".sk-estimator-doc-link.fitted span {\n",
       "  /* fitted */\n",
       "  background: var(--sklearn-color-fitted-level-0);\n",
       "  border: var(--sklearn-color-fitted-level-3);\n",
       "}\n",
       "\n",
       ".sk-estimator-doc-link:hover span {\n",
       "  display: block;\n",
       "}\n",
       "\n",
       "/* \"?\"-specific style due to the `<a>` HTML tag */\n",
       "\n",
       "#sk-container-id-2 a.estimator_doc_link {\n",
       "  float: right;\n",
       "  font-size: 1rem;\n",
       "  line-height: 1em;\n",
       "  font-family: monospace;\n",
       "  background-color: var(--sklearn-color-background);\n",
       "  border-radius: 1rem;\n",
       "  height: 1rem;\n",
       "  width: 1rem;\n",
       "  text-decoration: none;\n",
       "  /* unfitted */\n",
       "  color: var(--sklearn-color-unfitted-level-1);\n",
       "  border: var(--sklearn-color-unfitted-level-1) 1pt solid;\n",
       "}\n",
       "\n",
       "#sk-container-id-2 a.estimator_doc_link.fitted {\n",
       "  /* fitted */\n",
       "  border: var(--sklearn-color-fitted-level-1) 1pt solid;\n",
       "  color: var(--sklearn-color-fitted-level-1);\n",
       "}\n",
       "\n",
       "/* On hover */\n",
       "#sk-container-id-2 a.estimator_doc_link:hover {\n",
       "  /* unfitted */\n",
       "  background-color: var(--sklearn-color-unfitted-level-3);\n",
       "  color: var(--sklearn-color-background);\n",
       "  text-decoration: none;\n",
       "}\n",
       "\n",
       "#sk-container-id-2 a.estimator_doc_link.fitted:hover {\n",
       "  /* fitted */\n",
       "  background-color: var(--sklearn-color-fitted-level-3);\n",
       "}\n",
       "</style><div id=\"sk-container-id-2\" class=\"sk-top-container\"><div class=\"sk-text-repr-fallback\"><pre>LogisticRegression(n_jobs=-1, random_state=42)</pre><b>In a Jupyter environment, please rerun this cell to show the HTML representation or trust the notebook. <br />On GitHub, the HTML representation is unable to render, please try loading this page with nbviewer.org.</b></div><div class=\"sk-container\" hidden><div class=\"sk-item\"><div class=\"sk-estimator fitted sk-toggleable\"><input class=\"sk-toggleable__control sk-hidden--visually\" id=\"sk-estimator-id-2\" type=\"checkbox\" checked><label for=\"sk-estimator-id-2\" class=\"sk-toggleable__label fitted sk-toggleable__label-arrow fitted\">&nbsp;&nbsp;LogisticRegression<a class=\"sk-estimator-doc-link fitted\" rel=\"noreferrer\" target=\"_blank\" href=\"https://scikit-learn.org/1.5/modules/generated/sklearn.linear_model.LogisticRegression.html\">?<span>Documentation for LogisticRegression</span></a><span class=\"sk-estimator-doc-link fitted\">i<span>Fitted</span></span></label><div class=\"sk-toggleable__content fitted\"><pre>LogisticRegression(n_jobs=-1, random_state=42)</pre></div> </div></div></div></div>"
      ],
      "text/plain": [
       "LogisticRegression(n_jobs=-1, random_state=42)"
      ]
     },
     "execution_count": 207,
     "metadata": {},
     "output_type": "execute_result"
    }
   ],
   "source": [
    "# Let's build a Logistic Regression model with all the variables\n",
    "\n",
    "logreg = LogisticRegression(n_jobs=-1, random_state=42)\n",
    "logreg.fit(X_train, y_train)"
   ]
  },
  {
   "cell_type": "code",
   "execution_count": 208,
   "metadata": {},
   "outputs": [
    {
     "name": "stdout",
     "output_type": "stream",
     "text": [
      "Accuracy of logistic regression classifier on test set with all the columns: 0.93\n"
     ]
    }
   ],
   "source": [
    "# Let's predict the output with the model built\n",
    "\n",
    "y_pred = logreg.predict(X_test)\n",
    "\n",
    "# Let's check the accuracy\n",
    "\n",
    "print('Accuracy of logistic regression classifier on test set with all the columns: {:.2f}'.format(accuracy_score(y_test, y_pred)))"
   ]
  },
  {
   "cell_type": "code",
   "execution_count": 209,
   "metadata": {},
   "outputs": [
    {
     "data": {
      "text/plain": [
       "Index(['Total Time Spent on Website', 'Lead Source_Welingak Website',\n",
       "       'Occupation_Missing', 'Tags_Busy', 'Tags_Closed by Horizzon',\n",
       "       'Tags_Lost to EINS', 'Tags_Missing', 'Tags_Ringing',\n",
       "       'Tags_Will revert after reading the email', 'Tags_invalid number',\n",
       "       'Tags_switched off', 'Tags_wrong number given',\n",
       "       'Last Notable Activity_Olark Chat Conversation',\n",
       "       'Last Notable Activity_SMS Sent', 'Last Notable Activity_Unsubscribed'],\n",
       "      dtype='object')"
      ]
     },
     "execution_count": 209,
     "metadata": {},
     "output_type": "execute_result"
    }
   ],
   "source": [
    "# Let's remove a few columns using Recursive Feature Elimination (RFE)\n",
    "logreg = LogisticRegression(n_jobs=-1,random_state=42)\n",
    "selector = RFE(logreg, n_features_to_select=15)\n",
    "selector.fit(X_train, y_train)\n",
    "\n",
    "selected_columns = X_train.columns[selector.support_]\n",
    "selected_columns"
   ]
  },
  {
   "cell_type": "code",
   "execution_count": 210,
   "metadata": {},
   "outputs": [
    {
     "data": {
      "text/html": [
       "<div>\n",
       "<style scoped>\n",
       "    .dataframe tbody tr th:only-of-type {\n",
       "        vertical-align: middle;\n",
       "    }\n",
       "\n",
       "    .dataframe tbody tr th {\n",
       "        vertical-align: top;\n",
       "    }\n",
       "\n",
       "    .dataframe thead th {\n",
       "        text-align: right;\n",
       "    }\n",
       "</style>\n",
       "<table border=\"1\" class=\"dataframe\">\n",
       "  <thead>\n",
       "    <tr style=\"text-align: right;\">\n",
       "      <th></th>\n",
       "      <th>features</th>\n",
       "      <th>VIF</th>\n",
       "    </tr>\n",
       "  </thead>\n",
       "  <tbody>\n",
       "    <tr>\n",
       "      <th>0</th>\n",
       "      <td>Total Time Spent on Website</td>\n",
       "      <td>1.860694</td>\n",
       "    </tr>\n",
       "    <tr>\n",
       "      <th>1</th>\n",
       "      <td>Lead Source_Welingak Website</td>\n",
       "      <td>1.133249</td>\n",
       "    </tr>\n",
       "    <tr>\n",
       "      <th>2</th>\n",
       "      <td>Occupation_Missing</td>\n",
       "      <td>4.749516</td>\n",
       "    </tr>\n",
       "    <tr>\n",
       "      <th>3</th>\n",
       "      <td>Tags_Busy</td>\n",
       "      <td>1.068622</td>\n",
       "    </tr>\n",
       "    <tr>\n",
       "      <th>4</th>\n",
       "      <td>Tags_Closed by Horizzon</td>\n",
       "      <td>1.074556</td>\n",
       "    </tr>\n",
       "    <tr>\n",
       "      <th>5</th>\n",
       "      <td>Tags_Lost to EINS</td>\n",
       "      <td>1.083908</td>\n",
       "    </tr>\n",
       "    <tr>\n",
       "      <th>6</th>\n",
       "      <td>Tags_Missing</td>\n",
       "      <td>5.313455</td>\n",
       "    </tr>\n",
       "    <tr>\n",
       "      <th>7</th>\n",
       "      <td>Tags_Ringing</td>\n",
       "      <td>1.153125</td>\n",
       "    </tr>\n",
       "    <tr>\n",
       "      <th>8</th>\n",
       "      <td>Tags_Will revert after reading the email</td>\n",
       "      <td>1.737723</td>\n",
       "    </tr>\n",
       "    <tr>\n",
       "      <th>9</th>\n",
       "      <td>Tags_invalid number</td>\n",
       "      <td>1.016492</td>\n",
       "    </tr>\n",
       "    <tr>\n",
       "      <th>10</th>\n",
       "      <td>Tags_switched off</td>\n",
       "      <td>1.031477</td>\n",
       "    </tr>\n",
       "    <tr>\n",
       "      <th>11</th>\n",
       "      <td>Tags_wrong number given</td>\n",
       "      <td>1.005071</td>\n",
       "    </tr>\n",
       "    <tr>\n",
       "      <th>12</th>\n",
       "      <td>Last Notable Activity_Olark Chat Conversation</td>\n",
       "      <td>1.031219</td>\n",
       "    </tr>\n",
       "    <tr>\n",
       "      <th>13</th>\n",
       "      <td>Last Notable Activity_SMS Sent</td>\n",
       "      <td>1.599593</td>\n",
       "    </tr>\n",
       "    <tr>\n",
       "      <th>14</th>\n",
       "      <td>Last Notable Activity_Unsubscribed</td>\n",
       "      <td>1.014643</td>\n",
       "    </tr>\n",
       "  </tbody>\n",
       "</table>\n",
       "</div>"
      ],
      "text/plain": [
       "                                         features       VIF\n",
       "0                     Total Time Spent on Website  1.860694\n",
       "1                    Lead Source_Welingak Website  1.133249\n",
       "2                              Occupation_Missing  4.749516\n",
       "3                                       Tags_Busy  1.068622\n",
       "4                         Tags_Closed by Horizzon  1.074556\n",
       "5                               Tags_Lost to EINS  1.083908\n",
       "6                                    Tags_Missing  5.313455\n",
       "7                                    Tags_Ringing  1.153125\n",
       "8        Tags_Will revert after reading the email  1.737723\n",
       "9                             Tags_invalid number  1.016492\n",
       "10                              Tags_switched off  1.031477\n",
       "11                        Tags_wrong number given  1.005071\n",
       "12  Last Notable Activity_Olark Chat Conversation  1.031219\n",
       "13                 Last Notable Activity_SMS Sent  1.599593\n",
       "14             Last Notable Activity_Unsubscribed  1.014643"
      ]
     },
     "execution_count": 210,
     "metadata": {},
     "output_type": "execute_result"
    }
   ],
   "source": [
    "# Let's check the VIF of columns selected from the RFE model with 15 features selected\n",
    "X_train1 = X_train[selected_columns]\n",
    "X_test1 = X_test[selected_columns]\n",
    "\n",
    "def vif(df):\n",
    "    vif_df = pd.DataFrame()\n",
    "    vif_df['features'] = df.columns\n",
    "    vif_df['VIF'] = [variance_inflation_factor(df.values, i) for i in range(df.shape[1])]\n",
    "    return vif_df\n",
    "\n",
    "vif_df = vif(X_train1)\n",
    "\n",
    "vif_df"
   ]
  },
  {
   "cell_type": "code",
   "execution_count": 211,
   "metadata": {},
   "outputs": [
    {
     "name": "stdout",
     "output_type": "stream",
     "text": [
      "Warning: Maximum number of iterations has been exceeded.\n",
      "         Current function value: 0.181770\n",
      "         Iterations: 35\n"
     ]
    },
    {
     "data": {
      "text/html": [
       "<table class=\"simpletable\">\n",
       "<caption>Logit Regression Results</caption>\n",
       "<tr>\n",
       "  <th>Dep. Variable:</th>       <td>Converted</td>    <th>  No. Observations:  </th>  <td>  6404</td> \n",
       "</tr>\n",
       "<tr>\n",
       "  <th>Model:</th>                 <td>Logit</td>      <th>  Df Residuals:      </th>  <td>  6388</td> \n",
       "</tr>\n",
       "<tr>\n",
       "  <th>Method:</th>                 <td>MLE</td>       <th>  Df Model:          </th>  <td>    15</td> \n",
       "</tr>\n",
       "<tr>\n",
       "  <th>Date:</th>            <td>Sat, 14 Dec 2024</td> <th>  Pseudo R-squ.:     </th>  <td>0.7277</td> \n",
       "</tr>\n",
       "<tr>\n",
       "  <th>Time:</th>                <td>23:41:29</td>     <th>  Log-Likelihood:    </th> <td> -1164.1</td>\n",
       "</tr>\n",
       "<tr>\n",
       "  <th>converged:</th>             <td>False</td>      <th>  LL-Null:           </th> <td> -4275.2</td>\n",
       "</tr>\n",
       "<tr>\n",
       "  <th>Covariance Type:</th>     <td>nonrobust</td>    <th>  LLR p-value:       </th>  <td> 0.000</td> \n",
       "</tr>\n",
       "</table>\n",
       "<table class=\"simpletable\">\n",
       "<tr>\n",
       "                        <td></td>                           <th>coef</th>     <th>std err</th>      <th>z</th>      <th>P>|z|</th>  <th>[0.025</th>    <th>0.975]</th>  \n",
       "</tr>\n",
       "<tr>\n",
       "  <th>const</th>                                         <td>   -4.5842</td> <td>    0.212</td> <td>  -21.608</td> <td> 0.000</td> <td>   -5.000</td> <td>   -4.168</td>\n",
       "</tr>\n",
       "<tr>\n",
       "  <th>Total Time Spent on Website</th>                   <td>    3.4834</td> <td>    0.230</td> <td>   15.125</td> <td> 0.000</td> <td>    3.032</td> <td>    3.935</td>\n",
       "</tr>\n",
       "<tr>\n",
       "  <th>Lead Source_Welingak Website</th>                  <td>    3.9335</td> <td>    1.025</td> <td>    3.839</td> <td> 0.000</td> <td>    1.925</td> <td>    5.942</td>\n",
       "</tr>\n",
       "<tr>\n",
       "  <th>Occupation_Missing</th>                            <td>   -2.5396</td> <td>    0.151</td> <td>  -16.808</td> <td> 0.000</td> <td>   -2.836</td> <td>   -2.243</td>\n",
       "</tr>\n",
       "<tr>\n",
       "  <th>Tags_Busy</th>                                     <td>    2.4057</td> <td>    0.302</td> <td>    7.977</td> <td> 0.000</td> <td>    1.815</td> <td>    2.997</td>\n",
       "</tr>\n",
       "<tr>\n",
       "  <th>Tags_Closed by Horizzon</th>                       <td>    9.3758</td> <td>    1.024</td> <td>    9.156</td> <td> 0.000</td> <td>    7.369</td> <td>   11.383</td>\n",
       "</tr>\n",
       "<tr>\n",
       "  <th>Tags_Lost to EINS</th>                             <td>    8.4805</td> <td>    0.578</td> <td>   14.674</td> <td> 0.000</td> <td>    7.348</td> <td>    9.613</td>\n",
       "</tr>\n",
       "<tr>\n",
       "  <th>Tags_Missing</th>                                  <td>    3.8488</td> <td>    0.232</td> <td>   16.558</td> <td> 0.000</td> <td>    3.393</td> <td>    4.304</td>\n",
       "</tr>\n",
       "<tr>\n",
       "  <th>Tags_Ringing</th>                                  <td>   -1.3229</td> <td>    0.298</td> <td>   -4.443</td> <td> 0.000</td> <td>   -1.906</td> <td>   -0.739</td>\n",
       "</tr>\n",
       "<tr>\n",
       "  <th>Tags_Will revert after reading the email</th>      <td>    6.5366</td> <td>    0.251</td> <td>   26.028</td> <td> 0.000</td> <td>    6.044</td> <td>    7.029</td>\n",
       "</tr>\n",
       "<tr>\n",
       "  <th>Tags_invalid number</th>                           <td>  -18.2159</td> <td> 2790.094</td> <td>   -0.007</td> <td> 0.995</td> <td>-5486.700</td> <td> 5450.268</td>\n",
       "</tr>\n",
       "<tr>\n",
       "  <th>Tags_switched off</th>                             <td>   -1.8996</td> <td>    0.636</td> <td>   -2.989</td> <td> 0.003</td> <td>   -3.145</td> <td>   -0.654</td>\n",
       "</tr>\n",
       "<tr>\n",
       "  <th>Tags_wrong number given</th>                       <td>  -18.8256</td> <td> 6523.362</td> <td>   -0.003</td> <td> 0.998</td> <td>-1.28e+04</td> <td> 1.28e+04</td>\n",
       "</tr>\n",
       "<tr>\n",
       "  <th>Last Notable Activity_Olark Chat Conversation</th> <td>   -1.7663</td> <td>    0.606</td> <td>   -2.914</td> <td> 0.004</td> <td>   -2.954</td> <td>   -0.578</td>\n",
       "</tr>\n",
       "<tr>\n",
       "  <th>Last Notable Activity_SMS Sent</th>                <td>    2.6920</td> <td>    0.139</td> <td>   19.390</td> <td> 0.000</td> <td>    2.420</td> <td>    2.964</td>\n",
       "</tr>\n",
       "<tr>\n",
       "  <th>Last Notable Activity_Unsubscribed</th>            <td>    0.9023</td> <td>    0.659</td> <td>    1.369</td> <td> 0.171</td> <td>   -0.389</td> <td>    2.194</td>\n",
       "</tr>\n",
       "</table>"
      ],
      "text/latex": [
       "\\begin{center}\n",
       "\\begin{tabular}{lclc}\n",
       "\\toprule\n",
       "\\textbf{Dep. Variable:}                                 &    Converted     & \\textbf{  No. Observations:  } &     6404    \\\\\n",
       "\\textbf{Model:}                                         &      Logit       & \\textbf{  Df Residuals:      } &     6388    \\\\\n",
       "\\textbf{Method:}                                        &       MLE        & \\textbf{  Df Model:          } &       15    \\\\\n",
       "\\textbf{Date:}                                          & Sat, 14 Dec 2024 & \\textbf{  Pseudo R-squ.:     } &   0.7277    \\\\\n",
       "\\textbf{Time:}                                          &     23:41:29     & \\textbf{  Log-Likelihood:    } &   -1164.1   \\\\\n",
       "\\textbf{converged:}                                     &      False       & \\textbf{  LL-Null:           } &   -4275.2   \\\\\n",
       "\\textbf{Covariance Type:}                               &    nonrobust     & \\textbf{  LLR p-value:       } &    0.000    \\\\\n",
       "\\bottomrule\n",
       "\\end{tabular}\n",
       "\\begin{tabular}{lcccccc}\n",
       "                                                        & \\textbf{coef} & \\textbf{std err} & \\textbf{z} & \\textbf{P$> |$z$|$} & \\textbf{[0.025} & \\textbf{0.975]}  \\\\\n",
       "\\midrule\n",
       "\\textbf{const}                                          &      -4.5842  &        0.212     &   -21.608  &         0.000        &       -5.000    &       -4.168     \\\\\n",
       "\\textbf{Total Time Spent on Website}                    &       3.4834  &        0.230     &    15.125  &         0.000        &        3.032    &        3.935     \\\\\n",
       "\\textbf{Lead Source\\_Welingak Website}                  &       3.9335  &        1.025     &     3.839  &         0.000        &        1.925    &        5.942     \\\\\n",
       "\\textbf{Occupation\\_Missing}                            &      -2.5396  &        0.151     &   -16.808  &         0.000        &       -2.836    &       -2.243     \\\\\n",
       "\\textbf{Tags\\_Busy}                                     &       2.4057  &        0.302     &     7.977  &         0.000        &        1.815    &        2.997     \\\\\n",
       "\\textbf{Tags\\_Closed by Horizzon}                       &       9.3758  &        1.024     &     9.156  &         0.000        &        7.369    &       11.383     \\\\\n",
       "\\textbf{Tags\\_Lost to EINS}                             &       8.4805  &        0.578     &    14.674  &         0.000        &        7.348    &        9.613     \\\\\n",
       "\\textbf{Tags\\_Missing}                                  &       3.8488  &        0.232     &    16.558  &         0.000        &        3.393    &        4.304     \\\\\n",
       "\\textbf{Tags\\_Ringing}                                  &      -1.3229  &        0.298     &    -4.443  &         0.000        &       -1.906    &       -0.739     \\\\\n",
       "\\textbf{Tags\\_Will revert after reading the email}      &       6.5366  &        0.251     &    26.028  &         0.000        &        6.044    &        7.029     \\\\\n",
       "\\textbf{Tags\\_invalid number}                           &     -18.2159  &     2790.094     &    -0.007  &         0.995        &    -5486.700    &     5450.268     \\\\\n",
       "\\textbf{Tags\\_switched off}                             &      -1.8996  &        0.636     &    -2.989  &         0.003        &       -3.145    &       -0.654     \\\\\n",
       "\\textbf{Tags\\_wrong number given}                       &     -18.8256  &     6523.362     &    -0.003  &         0.998        &    -1.28e+04    &     1.28e+04     \\\\\n",
       "\\textbf{Last Notable Activity\\_Olark Chat Conversation} &      -1.7663  &        0.606     &    -2.914  &         0.004        &       -2.954    &       -0.578     \\\\\n",
       "\\textbf{Last Notable Activity\\_SMS Sent}                &       2.6920  &        0.139     &    19.390  &         0.000        &        2.420    &        2.964     \\\\\n",
       "\\textbf{Last Notable Activity\\_Unsubscribed}            &       0.9023  &        0.659     &     1.369  &         0.171        &       -0.389    &        2.194     \\\\\n",
       "\\bottomrule\n",
       "\\end{tabular}\n",
       "%\\caption{Logit Regression Results}\n",
       "\\end{center}"
      ],
      "text/plain": [
       "<class 'statsmodels.iolib.summary.Summary'>\n",
       "\"\"\"\n",
       "                           Logit Regression Results                           \n",
       "==============================================================================\n",
       "Dep. Variable:              Converted   No. Observations:                 6404\n",
       "Model:                          Logit   Df Residuals:                     6388\n",
       "Method:                           MLE   Df Model:                           15\n",
       "Date:                Sat, 14 Dec 2024   Pseudo R-squ.:                  0.7277\n",
       "Time:                        23:41:29   Log-Likelihood:                -1164.1\n",
       "converged:                      False   LL-Null:                       -4275.2\n",
       "Covariance Type:            nonrobust   LLR p-value:                     0.000\n",
       "=================================================================================================================\n",
       "                                                    coef    std err          z      P>|z|      [0.025      0.975]\n",
       "-----------------------------------------------------------------------------------------------------------------\n",
       "const                                            -4.5842      0.212    -21.608      0.000      -5.000      -4.168\n",
       "Total Time Spent on Website                       3.4834      0.230     15.125      0.000       3.032       3.935\n",
       "Lead Source_Welingak Website                      3.9335      1.025      3.839      0.000       1.925       5.942\n",
       "Occupation_Missing                               -2.5396      0.151    -16.808      0.000      -2.836      -2.243\n",
       "Tags_Busy                                         2.4057      0.302      7.977      0.000       1.815       2.997\n",
       "Tags_Closed by Horizzon                           9.3758      1.024      9.156      0.000       7.369      11.383\n",
       "Tags_Lost to EINS                                 8.4805      0.578     14.674      0.000       7.348       9.613\n",
       "Tags_Missing                                      3.8488      0.232     16.558      0.000       3.393       4.304\n",
       "Tags_Ringing                                     -1.3229      0.298     -4.443      0.000      -1.906      -0.739\n",
       "Tags_Will revert after reading the email          6.5366      0.251     26.028      0.000       6.044       7.029\n",
       "Tags_invalid number                             -18.2159   2790.094     -0.007      0.995   -5486.700    5450.268\n",
       "Tags_switched off                                -1.8996      0.636     -2.989      0.003      -3.145      -0.654\n",
       "Tags_wrong number given                         -18.8256   6523.362     -0.003      0.998   -1.28e+04    1.28e+04\n",
       "Last Notable Activity_Olark Chat Conversation    -1.7663      0.606     -2.914      0.004      -2.954      -0.578\n",
       "Last Notable Activity_SMS Sent                    2.6920      0.139     19.390      0.000       2.420       2.964\n",
       "Last Notable Activity_Unsubscribed                0.9023      0.659      1.369      0.171      -0.389       2.194\n",
       "=================================================================================================================\n",
       "\"\"\""
      ]
     },
     "execution_count": 211,
     "metadata": {},
     "output_type": "execute_result"
    }
   ],
   "source": [
    "# Let's check the p-values of the columns we got to see if they are not selected by chance and have a statistical significance\n",
    "\n",
    "X_train1 = X_train1.reset_index(drop=True)\n",
    "y_train = y_train.reset_index(drop=True)\n",
    "X_train_sm = sm.add_constant(X_train1)\n",
    "logm = sm.Logit(y_train, X_train_sm)\n",
    "result = logm.fit()\n",
    "result.summary()"
   ]
  },
  {
   "cell_type": "code",
   "execution_count": 212,
   "metadata": {},
   "outputs": [],
   "source": [
    "# From the above statistics, we can see that some of the p-values of the columns are high indicating they are selected by chance\n",
    "# We will drop the columns that have high p-values one after the other\n",
    "\n",
    "X_train1 = X_train1.drop(\"Tags_invalid number\", axis=1)\n",
    "X_test1 = X_test1.drop(\"Tags_invalid number\", axis=1)"
   ]
  },
  {
   "cell_type": "code",
   "execution_count": 213,
   "metadata": {},
   "outputs": [
    {
     "name": "stdout",
     "output_type": "stream",
     "text": [
      "Warning: Maximum number of iterations has been exceeded.\n",
      "         Current function value: 0.182719\n",
      "         Iterations: 35\n"
     ]
    },
    {
     "data": {
      "text/html": [
       "<table class=\"simpletable\">\n",
       "<caption>Logit Regression Results</caption>\n",
       "<tr>\n",
       "  <th>Dep. Variable:</th>       <td>Converted</td>    <th>  No. Observations:  </th>  <td>  6404</td> \n",
       "</tr>\n",
       "<tr>\n",
       "  <th>Model:</th>                 <td>Logit</td>      <th>  Df Residuals:      </th>  <td>  6389</td> \n",
       "</tr>\n",
       "<tr>\n",
       "  <th>Method:</th>                 <td>MLE</td>       <th>  Df Model:          </th>  <td>    14</td> \n",
       "</tr>\n",
       "<tr>\n",
       "  <th>Date:</th>            <td>Sat, 14 Dec 2024</td> <th>  Pseudo R-squ.:     </th>  <td>0.7263</td> \n",
       "</tr>\n",
       "<tr>\n",
       "  <th>Time:</th>                <td>23:41:29</td>     <th>  Log-Likelihood:    </th> <td> -1170.1</td>\n",
       "</tr>\n",
       "<tr>\n",
       "  <th>converged:</th>             <td>False</td>      <th>  LL-Null:           </th> <td> -4275.2</td>\n",
       "</tr>\n",
       "<tr>\n",
       "  <th>Covariance Type:</th>     <td>nonrobust</td>    <th>  LLR p-value:       </th>  <td> 0.000</td> \n",
       "</tr>\n",
       "</table>\n",
       "<table class=\"simpletable\">\n",
       "<tr>\n",
       "                        <td></td>                           <th>coef</th>     <th>std err</th>      <th>z</th>      <th>P>|z|</th>  <th>[0.025</th>    <th>0.975]</th>  \n",
       "</tr>\n",
       "<tr>\n",
       "  <th>const</th>                                         <td>   -4.7490</td> <td>    0.214</td> <td>  -22.222</td> <td> 0.000</td> <td>   -5.168</td> <td>   -4.330</td>\n",
       "</tr>\n",
       "<tr>\n",
       "  <th>Total Time Spent on Website</th>                   <td>    3.4790</td> <td>    0.229</td> <td>   15.159</td> <td> 0.000</td> <td>    3.029</td> <td>    3.929</td>\n",
       "</tr>\n",
       "<tr>\n",
       "  <th>Lead Source_Welingak Website</th>                  <td>    3.9319</td> <td>    1.024</td> <td>    3.838</td> <td> 0.000</td> <td>    1.924</td> <td>    5.940</td>\n",
       "</tr>\n",
       "<tr>\n",
       "  <th>Occupation_Missing</th>                            <td>   -2.5309</td> <td>    0.150</td> <td>  -16.824</td> <td> 0.000</td> <td>   -2.826</td> <td>   -2.236</td>\n",
       "</tr>\n",
       "<tr>\n",
       "  <th>Tags_Busy</th>                                     <td>    2.5977</td> <td>    0.300</td> <td>    8.672</td> <td> 0.000</td> <td>    2.011</td> <td>    3.185</td>\n",
       "</tr>\n",
       "<tr>\n",
       "  <th>Tags_Closed by Horizzon</th>                       <td>    9.5411</td> <td>    1.024</td> <td>    9.314</td> <td> 0.000</td> <td>    7.533</td> <td>   11.549</td>\n",
       "</tr>\n",
       "<tr>\n",
       "  <th>Tags_Lost to EINS</th>                             <td>    8.6397</td> <td>    0.579</td> <td>   14.932</td> <td> 0.000</td> <td>    7.506</td> <td>    9.774</td>\n",
       "</tr>\n",
       "<tr>\n",
       "  <th>Tags_Missing</th>                                  <td>    4.0222</td> <td>    0.233</td> <td>   17.259</td> <td> 0.000</td> <td>    3.565</td> <td>    4.479</td>\n",
       "</tr>\n",
       "<tr>\n",
       "  <th>Tags_Ringing</th>                                  <td>   -1.1131</td> <td>    0.294</td> <td>   -3.783</td> <td> 0.000</td> <td>   -1.690</td> <td>   -0.536</td>\n",
       "</tr>\n",
       "<tr>\n",
       "  <th>Tags_Will revert after reading the email</th>      <td>    6.7064</td> <td>    0.252</td> <td>   26.596</td> <td> 0.000</td> <td>    6.212</td> <td>    7.201</td>\n",
       "</tr>\n",
       "<tr>\n",
       "  <th>Tags_switched off</th>                             <td>   -1.6872</td> <td>    0.634</td> <td>   -2.663</td> <td> 0.008</td> <td>   -2.929</td> <td>   -0.445</td>\n",
       "</tr>\n",
       "<tr>\n",
       "  <th>Tags_wrong number given</th>                       <td>  -18.7742</td> <td> 7063.693</td> <td>   -0.003</td> <td> 0.998</td> <td>-1.39e+04</td> <td> 1.38e+04</td>\n",
       "</tr>\n",
       "<tr>\n",
       "  <th>Last Notable Activity_Olark Chat Conversation</th> <td>   -1.7719</td> <td>    0.606</td> <td>   -2.926</td> <td> 0.003</td> <td>   -2.959</td> <td>   -0.585</td>\n",
       "</tr>\n",
       "<tr>\n",
       "  <th>Last Notable Activity_SMS Sent</th>                <td>    2.6391</td> <td>    0.136</td> <td>   19.341</td> <td> 0.000</td> <td>    2.372</td> <td>    2.907</td>\n",
       "</tr>\n",
       "<tr>\n",
       "  <th>Last Notable Activity_Unsubscribed</th>            <td>    0.8616</td> <td>    0.653</td> <td>    1.320</td> <td> 0.187</td> <td>   -0.418</td> <td>    2.141</td>\n",
       "</tr>\n",
       "</table>"
      ],
      "text/latex": [
       "\\begin{center}\n",
       "\\begin{tabular}{lclc}\n",
       "\\toprule\n",
       "\\textbf{Dep. Variable:}                                 &    Converted     & \\textbf{  No. Observations:  } &     6404    \\\\\n",
       "\\textbf{Model:}                                         &      Logit       & \\textbf{  Df Residuals:      } &     6389    \\\\\n",
       "\\textbf{Method:}                                        &       MLE        & \\textbf{  Df Model:          } &       14    \\\\\n",
       "\\textbf{Date:}                                          & Sat, 14 Dec 2024 & \\textbf{  Pseudo R-squ.:     } &   0.7263    \\\\\n",
       "\\textbf{Time:}                                          &     23:41:29     & \\textbf{  Log-Likelihood:    } &   -1170.1   \\\\\n",
       "\\textbf{converged:}                                     &      False       & \\textbf{  LL-Null:           } &   -4275.2   \\\\\n",
       "\\textbf{Covariance Type:}                               &    nonrobust     & \\textbf{  LLR p-value:       } &    0.000    \\\\\n",
       "\\bottomrule\n",
       "\\end{tabular}\n",
       "\\begin{tabular}{lcccccc}\n",
       "                                                        & \\textbf{coef} & \\textbf{std err} & \\textbf{z} & \\textbf{P$> |$z$|$} & \\textbf{[0.025} & \\textbf{0.975]}  \\\\\n",
       "\\midrule\n",
       "\\textbf{const}                                          &      -4.7490  &        0.214     &   -22.222  &         0.000        &       -5.168    &       -4.330     \\\\\n",
       "\\textbf{Total Time Spent on Website}                    &       3.4790  &        0.229     &    15.159  &         0.000        &        3.029    &        3.929     \\\\\n",
       "\\textbf{Lead Source\\_Welingak Website}                  &       3.9319  &        1.024     &     3.838  &         0.000        &        1.924    &        5.940     \\\\\n",
       "\\textbf{Occupation\\_Missing}                            &      -2.5309  &        0.150     &   -16.824  &         0.000        &       -2.826    &       -2.236     \\\\\n",
       "\\textbf{Tags\\_Busy}                                     &       2.5977  &        0.300     &     8.672  &         0.000        &        2.011    &        3.185     \\\\\n",
       "\\textbf{Tags\\_Closed by Horizzon}                       &       9.5411  &        1.024     &     9.314  &         0.000        &        7.533    &       11.549     \\\\\n",
       "\\textbf{Tags\\_Lost to EINS}                             &       8.6397  &        0.579     &    14.932  &         0.000        &        7.506    &        9.774     \\\\\n",
       "\\textbf{Tags\\_Missing}                                  &       4.0222  &        0.233     &    17.259  &         0.000        &        3.565    &        4.479     \\\\\n",
       "\\textbf{Tags\\_Ringing}                                  &      -1.1131  &        0.294     &    -3.783  &         0.000        &       -1.690    &       -0.536     \\\\\n",
       "\\textbf{Tags\\_Will revert after reading the email}      &       6.7064  &        0.252     &    26.596  &         0.000        &        6.212    &        7.201     \\\\\n",
       "\\textbf{Tags\\_switched off}                             &      -1.6872  &        0.634     &    -2.663  &         0.008        &       -2.929    &       -0.445     \\\\\n",
       "\\textbf{Tags\\_wrong number given}                       &     -18.7742  &     7063.693     &    -0.003  &         0.998        &    -1.39e+04    &     1.38e+04     \\\\\n",
       "\\textbf{Last Notable Activity\\_Olark Chat Conversation} &      -1.7719  &        0.606     &    -2.926  &         0.003        &       -2.959    &       -0.585     \\\\\n",
       "\\textbf{Last Notable Activity\\_SMS Sent}                &       2.6391  &        0.136     &    19.341  &         0.000        &        2.372    &        2.907     \\\\\n",
       "\\textbf{Last Notable Activity\\_Unsubscribed}            &       0.8616  &        0.653     &     1.320  &         0.187        &       -0.418    &        2.141     \\\\\n",
       "\\bottomrule\n",
       "\\end{tabular}\n",
       "%\\caption{Logit Regression Results}\n",
       "\\end{center}"
      ],
      "text/plain": [
       "<class 'statsmodels.iolib.summary.Summary'>\n",
       "\"\"\"\n",
       "                           Logit Regression Results                           \n",
       "==============================================================================\n",
       "Dep. Variable:              Converted   No. Observations:                 6404\n",
       "Model:                          Logit   Df Residuals:                     6389\n",
       "Method:                           MLE   Df Model:                           14\n",
       "Date:                Sat, 14 Dec 2024   Pseudo R-squ.:                  0.7263\n",
       "Time:                        23:41:29   Log-Likelihood:                -1170.1\n",
       "converged:                      False   LL-Null:                       -4275.2\n",
       "Covariance Type:            nonrobust   LLR p-value:                     0.000\n",
       "=================================================================================================================\n",
       "                                                    coef    std err          z      P>|z|      [0.025      0.975]\n",
       "-----------------------------------------------------------------------------------------------------------------\n",
       "const                                            -4.7490      0.214    -22.222      0.000      -5.168      -4.330\n",
       "Total Time Spent on Website                       3.4790      0.229     15.159      0.000       3.029       3.929\n",
       "Lead Source_Welingak Website                      3.9319      1.024      3.838      0.000       1.924       5.940\n",
       "Occupation_Missing                               -2.5309      0.150    -16.824      0.000      -2.826      -2.236\n",
       "Tags_Busy                                         2.5977      0.300      8.672      0.000       2.011       3.185\n",
       "Tags_Closed by Horizzon                           9.5411      1.024      9.314      0.000       7.533      11.549\n",
       "Tags_Lost to EINS                                 8.6397      0.579     14.932      0.000       7.506       9.774\n",
       "Tags_Missing                                      4.0222      0.233     17.259      0.000       3.565       4.479\n",
       "Tags_Ringing                                     -1.1131      0.294     -3.783      0.000      -1.690      -0.536\n",
       "Tags_Will revert after reading the email          6.7064      0.252     26.596      0.000       6.212       7.201\n",
       "Tags_switched off                                -1.6872      0.634     -2.663      0.008      -2.929      -0.445\n",
       "Tags_wrong number given                         -18.7742   7063.693     -0.003      0.998   -1.39e+04    1.38e+04\n",
       "Last Notable Activity_Olark Chat Conversation    -1.7719      0.606     -2.926      0.003      -2.959      -0.585\n",
       "Last Notable Activity_SMS Sent                    2.6391      0.136     19.341      0.000       2.372       2.907\n",
       "Last Notable Activity_Unsubscribed                0.8616      0.653      1.320      0.187      -0.418       2.141\n",
       "=================================================================================================================\n",
       "\"\"\""
      ]
     },
     "execution_count": 213,
     "metadata": {},
     "output_type": "execute_result"
    }
   ],
   "source": [
    "# We will check the p-values again now with the updated columns\n",
    "\n",
    "X_train1 = X_train1.reset_index(drop=True)\n",
    "y_train = y_train.reset_index(drop=True)\n",
    "X_train_sm = sm.add_constant(X_train1)\n",
    "logm = sm.Logit(y_train, X_train_sm)\n",
    "result = logm.fit()\n",
    "result.summary()"
   ]
  },
  {
   "cell_type": "code",
   "execution_count": 214,
   "metadata": {},
   "outputs": [],
   "source": [
    "# The column \"Tags_wrong number given\" has a high p-value. Let's drop that column\n",
    "\n",
    "X_train1 = X_train1.drop(\"Tags_wrong number given\", axis=1)\n",
    "X_test1 = X_test1.drop(\"Tags_wrong number given\", axis=1)"
   ]
  },
  {
   "cell_type": "code",
   "execution_count": 215,
   "metadata": {},
   "outputs": [
    {
     "name": "stdout",
     "output_type": "stream",
     "text": [
      "Optimization terminated successfully.\n",
      "         Current function value: 0.183097\n",
      "         Iterations 10\n"
     ]
    },
    {
     "data": {
      "text/html": [
       "<table class=\"simpletable\">\n",
       "<caption>Logit Regression Results</caption>\n",
       "<tr>\n",
       "  <th>Dep. Variable:</th>       <td>Converted</td>    <th>  No. Observations:  </th>  <td>  6404</td> \n",
       "</tr>\n",
       "<tr>\n",
       "  <th>Model:</th>                 <td>Logit</td>      <th>  Df Residuals:      </th>  <td>  6390</td> \n",
       "</tr>\n",
       "<tr>\n",
       "  <th>Method:</th>                 <td>MLE</td>       <th>  Df Model:          </th>  <td>    13</td> \n",
       "</tr>\n",
       "<tr>\n",
       "  <th>Date:</th>            <td>Sat, 14 Dec 2024</td> <th>  Pseudo R-squ.:     </th>  <td>0.7257</td> \n",
       "</tr>\n",
       "<tr>\n",
       "  <th>Time:</th>                <td>23:41:29</td>     <th>  Log-Likelihood:    </th> <td> -1172.6</td>\n",
       "</tr>\n",
       "<tr>\n",
       "  <th>converged:</th>             <td>True</td>       <th>  LL-Null:           </th> <td> -4275.2</td>\n",
       "</tr>\n",
       "<tr>\n",
       "  <th>Covariance Type:</th>     <td>nonrobust</td>    <th>  LLR p-value:       </th>  <td> 0.000</td> \n",
       "</tr>\n",
       "</table>\n",
       "<table class=\"simpletable\">\n",
       "<tr>\n",
       "                        <td></td>                           <th>coef</th>     <th>std err</th>      <th>z</th>      <th>P>|z|</th>  <th>[0.025</th>    <th>0.975]</th>  \n",
       "</tr>\n",
       "<tr>\n",
       "  <th>const</th>                                         <td>   -4.8263</td> <td>    0.214</td> <td>  -22.527</td> <td> 0.000</td> <td>   -5.246</td> <td>   -4.406</td>\n",
       "</tr>\n",
       "<tr>\n",
       "  <th>Total Time Spent on Website</th>                   <td>    3.4831</td> <td>    0.229</td> <td>   15.178</td> <td> 0.000</td> <td>    3.033</td> <td>    3.933</td>\n",
       "</tr>\n",
       "<tr>\n",
       "  <th>Lead Source_Welingak Website</th>                  <td>    3.9323</td> <td>    1.024</td> <td>    3.839</td> <td> 0.000</td> <td>    1.925</td> <td>    5.940</td>\n",
       "</tr>\n",
       "<tr>\n",
       "  <th>Occupation_Missing</th>                            <td>   -2.5283</td> <td>    0.150</td> <td>  -16.830</td> <td> 0.000</td> <td>   -2.823</td> <td>   -2.234</td>\n",
       "</tr>\n",
       "<tr>\n",
       "  <th>Tags_Busy</th>                                     <td>    2.6835</td> <td>    0.298</td> <td>    8.992</td> <td> 0.000</td> <td>    2.099</td> <td>    3.268</td>\n",
       "</tr>\n",
       "<tr>\n",
       "  <th>Tags_Closed by Horizzon</th>                       <td>    9.6181</td> <td>    1.025</td> <td>    9.388</td> <td> 0.000</td> <td>    7.610</td> <td>   11.626</td>\n",
       "</tr>\n",
       "<tr>\n",
       "  <th>Tags_Lost to EINS</th>                             <td>    8.7143</td> <td>    0.579</td> <td>   15.054</td> <td> 0.000</td> <td>    7.580</td> <td>    9.849</td>\n",
       "</tr>\n",
       "<tr>\n",
       "  <th>Tags_Missing</th>                                  <td>    4.1017</td> <td>    0.233</td> <td>   17.603</td> <td> 0.000</td> <td>    3.645</td> <td>    4.558</td>\n",
       "</tr>\n",
       "<tr>\n",
       "  <th>Tags_Ringing</th>                                  <td>   -1.0209</td> <td>    0.292</td> <td>   -3.491</td> <td> 0.000</td> <td>   -1.594</td> <td>   -0.448</td>\n",
       "</tr>\n",
       "<tr>\n",
       "  <th>Tags_Will revert after reading the email</th>      <td>    6.7847</td> <td>    0.252</td> <td>   26.886</td> <td> 0.000</td> <td>    6.290</td> <td>    7.279</td>\n",
       "</tr>\n",
       "<tr>\n",
       "  <th>Tags_switched off</th>                             <td>   -1.5936</td> <td>    0.633</td> <td>   -2.519</td> <td> 0.012</td> <td>   -2.834</td> <td>   -0.353</td>\n",
       "</tr>\n",
       "<tr>\n",
       "  <th>Last Notable Activity_Olark Chat Conversation</th> <td>   -1.7747</td> <td>    0.606</td> <td>   -2.929</td> <td> 0.003</td> <td>   -2.962</td> <td>   -0.587</td>\n",
       "</tr>\n",
       "<tr>\n",
       "  <th>Last Notable Activity_SMS Sent</th>                <td>    2.6190</td> <td>    0.136</td> <td>   19.319</td> <td> 0.000</td> <td>    2.353</td> <td>    2.885</td>\n",
       "</tr>\n",
       "<tr>\n",
       "  <th>Last Notable Activity_Unsubscribed</th>            <td>    0.8688</td> <td>    0.654</td> <td>    1.328</td> <td> 0.184</td> <td>   -0.414</td> <td>    2.151</td>\n",
       "</tr>\n",
       "</table>"
      ],
      "text/latex": [
       "\\begin{center}\n",
       "\\begin{tabular}{lclc}\n",
       "\\toprule\n",
       "\\textbf{Dep. Variable:}                                 &    Converted     & \\textbf{  No. Observations:  } &     6404    \\\\\n",
       "\\textbf{Model:}                                         &      Logit       & \\textbf{  Df Residuals:      } &     6390    \\\\\n",
       "\\textbf{Method:}                                        &       MLE        & \\textbf{  Df Model:          } &       13    \\\\\n",
       "\\textbf{Date:}                                          & Sat, 14 Dec 2024 & \\textbf{  Pseudo R-squ.:     } &   0.7257    \\\\\n",
       "\\textbf{Time:}                                          &     23:41:29     & \\textbf{  Log-Likelihood:    } &   -1172.6   \\\\\n",
       "\\textbf{converged:}                                     &       True       & \\textbf{  LL-Null:           } &   -4275.2   \\\\\n",
       "\\textbf{Covariance Type:}                               &    nonrobust     & \\textbf{  LLR p-value:       } &    0.000    \\\\\n",
       "\\bottomrule\n",
       "\\end{tabular}\n",
       "\\begin{tabular}{lcccccc}\n",
       "                                                        & \\textbf{coef} & \\textbf{std err} & \\textbf{z} & \\textbf{P$> |$z$|$} & \\textbf{[0.025} & \\textbf{0.975]}  \\\\\n",
       "\\midrule\n",
       "\\textbf{const}                                          &      -4.8263  &        0.214     &   -22.527  &         0.000        &       -5.246    &       -4.406     \\\\\n",
       "\\textbf{Total Time Spent on Website}                    &       3.4831  &        0.229     &    15.178  &         0.000        &        3.033    &        3.933     \\\\\n",
       "\\textbf{Lead Source\\_Welingak Website}                  &       3.9323  &        1.024     &     3.839  &         0.000        &        1.925    &        5.940     \\\\\n",
       "\\textbf{Occupation\\_Missing}                            &      -2.5283  &        0.150     &   -16.830  &         0.000        &       -2.823    &       -2.234     \\\\\n",
       "\\textbf{Tags\\_Busy}                                     &       2.6835  &        0.298     &     8.992  &         0.000        &        2.099    &        3.268     \\\\\n",
       "\\textbf{Tags\\_Closed by Horizzon}                       &       9.6181  &        1.025     &     9.388  &         0.000        &        7.610    &       11.626     \\\\\n",
       "\\textbf{Tags\\_Lost to EINS}                             &       8.7143  &        0.579     &    15.054  &         0.000        &        7.580    &        9.849     \\\\\n",
       "\\textbf{Tags\\_Missing}                                  &       4.1017  &        0.233     &    17.603  &         0.000        &        3.645    &        4.558     \\\\\n",
       "\\textbf{Tags\\_Ringing}                                  &      -1.0209  &        0.292     &    -3.491  &         0.000        &       -1.594    &       -0.448     \\\\\n",
       "\\textbf{Tags\\_Will revert after reading the email}      &       6.7847  &        0.252     &    26.886  &         0.000        &        6.290    &        7.279     \\\\\n",
       "\\textbf{Tags\\_switched off}                             &      -1.5936  &        0.633     &    -2.519  &         0.012        &       -2.834    &       -0.353     \\\\\n",
       "\\textbf{Last Notable Activity\\_Olark Chat Conversation} &      -1.7747  &        0.606     &    -2.929  &         0.003        &       -2.962    &       -0.587     \\\\\n",
       "\\textbf{Last Notable Activity\\_SMS Sent}                &       2.6190  &        0.136     &    19.319  &         0.000        &        2.353    &        2.885     \\\\\n",
       "\\textbf{Last Notable Activity\\_Unsubscribed}            &       0.8688  &        0.654     &     1.328  &         0.184        &       -0.414    &        2.151     \\\\\n",
       "\\bottomrule\n",
       "\\end{tabular}\n",
       "%\\caption{Logit Regression Results}\n",
       "\\end{center}"
      ],
      "text/plain": [
       "<class 'statsmodels.iolib.summary.Summary'>\n",
       "\"\"\"\n",
       "                           Logit Regression Results                           \n",
       "==============================================================================\n",
       "Dep. Variable:              Converted   No. Observations:                 6404\n",
       "Model:                          Logit   Df Residuals:                     6390\n",
       "Method:                           MLE   Df Model:                           13\n",
       "Date:                Sat, 14 Dec 2024   Pseudo R-squ.:                  0.7257\n",
       "Time:                        23:41:29   Log-Likelihood:                -1172.6\n",
       "converged:                       True   LL-Null:                       -4275.2\n",
       "Covariance Type:            nonrobust   LLR p-value:                     0.000\n",
       "=================================================================================================================\n",
       "                                                    coef    std err          z      P>|z|      [0.025      0.975]\n",
       "-----------------------------------------------------------------------------------------------------------------\n",
       "const                                            -4.8263      0.214    -22.527      0.000      -5.246      -4.406\n",
       "Total Time Spent on Website                       3.4831      0.229     15.178      0.000       3.033       3.933\n",
       "Lead Source_Welingak Website                      3.9323      1.024      3.839      0.000       1.925       5.940\n",
       "Occupation_Missing                               -2.5283      0.150    -16.830      0.000      -2.823      -2.234\n",
       "Tags_Busy                                         2.6835      0.298      8.992      0.000       2.099       3.268\n",
       "Tags_Closed by Horizzon                           9.6181      1.025      9.388      0.000       7.610      11.626\n",
       "Tags_Lost to EINS                                 8.7143      0.579     15.054      0.000       7.580       9.849\n",
       "Tags_Missing                                      4.1017      0.233     17.603      0.000       3.645       4.558\n",
       "Tags_Ringing                                     -1.0209      0.292     -3.491      0.000      -1.594      -0.448\n",
       "Tags_Will revert after reading the email          6.7847      0.252     26.886      0.000       6.290       7.279\n",
       "Tags_switched off                                -1.5936      0.633     -2.519      0.012      -2.834      -0.353\n",
       "Last Notable Activity_Olark Chat Conversation    -1.7747      0.606     -2.929      0.003      -2.962      -0.587\n",
       "Last Notable Activity_SMS Sent                    2.6190      0.136     19.319      0.000       2.353       2.885\n",
       "Last Notable Activity_Unsubscribed                0.8688      0.654      1.328      0.184      -0.414       2.151\n",
       "=================================================================================================================\n",
       "\"\"\""
      ]
     },
     "execution_count": 215,
     "metadata": {},
     "output_type": "execute_result"
    }
   ],
   "source": [
    "# Build the model again with the updated columns\n",
    "\n",
    "X_train1 = X_train1.reset_index(drop=True)\n",
    "y_train = y_train.reset_index(drop=True)\n",
    "X_train_sm = sm.add_constant(X_train1)\n",
    "logm = sm.Logit(y_train, X_train_sm)\n",
    "result = logm.fit()\n",
    "result.summary()"
   ]
  },
  {
   "cell_type": "code",
   "execution_count": 216,
   "metadata": {},
   "outputs": [],
   "source": [
    "# Column \"Last Notable Activity_Unsubscribed\" has a high p-value and hence we will remove it\n",
    "\n",
    "X_train1 = X_train1.drop(\"Last Notable Activity_Unsubscribed\", axis=1)\n",
    "X_test1 = X_test1.drop(\"Last Notable Activity_Unsubscribed\", axis=1)"
   ]
  },
  {
   "cell_type": "code",
   "execution_count": 217,
   "metadata": {},
   "outputs": [
    {
     "name": "stdout",
     "output_type": "stream",
     "text": [
      "Optimization terminated successfully.\n",
      "         Current function value: 0.183220\n",
      "         Iterations 10\n"
     ]
    },
    {
     "data": {
      "text/html": [
       "<table class=\"simpletable\">\n",
       "<caption>Logit Regression Results</caption>\n",
       "<tr>\n",
       "  <th>Dep. Variable:</th>       <td>Converted</td>    <th>  No. Observations:  </th>  <td>  6404</td> \n",
       "</tr>\n",
       "<tr>\n",
       "  <th>Model:</th>                 <td>Logit</td>      <th>  Df Residuals:      </th>  <td>  6391</td> \n",
       "</tr>\n",
       "<tr>\n",
       "  <th>Method:</th>                 <td>MLE</td>       <th>  Df Model:          </th>  <td>    12</td> \n",
       "</tr>\n",
       "<tr>\n",
       "  <th>Date:</th>            <td>Sat, 14 Dec 2024</td> <th>  Pseudo R-squ.:     </th>  <td>0.7255</td> \n",
       "</tr>\n",
       "<tr>\n",
       "  <th>Time:</th>                <td>23:41:29</td>     <th>  Log-Likelihood:    </th> <td> -1173.3</td>\n",
       "</tr>\n",
       "<tr>\n",
       "  <th>converged:</th>             <td>True</td>       <th>  LL-Null:           </th> <td> -4275.2</td>\n",
       "</tr>\n",
       "<tr>\n",
       "  <th>Covariance Type:</th>     <td>nonrobust</td>    <th>  LLR p-value:       </th>  <td> 0.000</td> \n",
       "</tr>\n",
       "</table>\n",
       "<table class=\"simpletable\">\n",
       "<tr>\n",
       "                        <td></td>                           <th>coef</th>     <th>std err</th>      <th>z</th>      <th>P>|z|</th>  <th>[0.025</th>    <th>0.975]</th>  \n",
       "</tr>\n",
       "<tr>\n",
       "  <th>const</th>                                         <td>   -4.8141</td> <td>    0.214</td> <td>  -22.512</td> <td> 0.000</td> <td>   -5.233</td> <td>   -4.395</td>\n",
       "</tr>\n",
       "<tr>\n",
       "  <th>Total Time Spent on Website</th>                   <td>    3.4798</td> <td>    0.229</td> <td>   15.173</td> <td> 0.000</td> <td>    3.030</td> <td>    3.929</td>\n",
       "</tr>\n",
       "<tr>\n",
       "  <th>Lead Source_Welingak Website</th>                  <td>    3.9286</td> <td>    1.024</td> <td>    3.836</td> <td> 0.000</td> <td>    1.921</td> <td>    5.936</td>\n",
       "</tr>\n",
       "<tr>\n",
       "  <th>Occupation_Missing</th>                            <td>   -2.5233</td> <td>    0.150</td> <td>  -16.823</td> <td> 0.000</td> <td>   -2.817</td> <td>   -2.229</td>\n",
       "</tr>\n",
       "<tr>\n",
       "  <th>Tags_Busy</th>                                     <td>    2.6826</td> <td>    0.299</td> <td>    8.984</td> <td> 0.000</td> <td>    2.097</td> <td>    3.268</td>\n",
       "</tr>\n",
       "<tr>\n",
       "  <th>Tags_Closed by Horizzon</th>                       <td>    9.6063</td> <td>    1.024</td> <td>    9.377</td> <td> 0.000</td> <td>    7.598</td> <td>   11.614</td>\n",
       "</tr>\n",
       "<tr>\n",
       "  <th>Tags_Lost to EINS</th>                             <td>    8.6990</td> <td>    0.578</td> <td>   15.037</td> <td> 0.000</td> <td>    7.565</td> <td>    9.833</td>\n",
       "</tr>\n",
       "<tr>\n",
       "  <th>Tags_Missing</th>                                  <td>    4.0944</td> <td>    0.233</td> <td>   17.589</td> <td> 0.000</td> <td>    3.638</td> <td>    4.551</td>\n",
       "</tr>\n",
       "<tr>\n",
       "  <th>Tags_Ringing</th>                                  <td>   -1.0227</td> <td>    0.292</td> <td>   -3.497</td> <td> 0.000</td> <td>   -1.596</td> <td>   -0.450</td>\n",
       "</tr>\n",
       "<tr>\n",
       "  <th>Tags_Will revert after reading the email</th>      <td>    6.7799</td> <td>    0.252</td> <td>   26.882</td> <td> 0.000</td> <td>    6.286</td> <td>    7.274</td>\n",
       "</tr>\n",
       "<tr>\n",
       "  <th>Tags_switched off</th>                             <td>   -1.5963</td> <td>    0.633</td> <td>   -2.523</td> <td> 0.012</td> <td>   -2.836</td> <td>   -0.356</td>\n",
       "</tr>\n",
       "<tr>\n",
       "  <th>Last Notable Activity_Olark Chat Conversation</th> <td>   -1.7803</td> <td>    0.606</td> <td>   -2.940</td> <td> 0.003</td> <td>   -2.967</td> <td>   -0.593</td>\n",
       "</tr>\n",
       "<tr>\n",
       "  <th>Last Notable Activity_SMS Sent</th>                <td>    2.6101</td> <td>    0.135</td> <td>   19.298</td> <td> 0.000</td> <td>    2.345</td> <td>    2.875</td>\n",
       "</tr>\n",
       "</table>"
      ],
      "text/latex": [
       "\\begin{center}\n",
       "\\begin{tabular}{lclc}\n",
       "\\toprule\n",
       "\\textbf{Dep. Variable:}                                 &    Converted     & \\textbf{  No. Observations:  } &     6404    \\\\\n",
       "\\textbf{Model:}                                         &      Logit       & \\textbf{  Df Residuals:      } &     6391    \\\\\n",
       "\\textbf{Method:}                                        &       MLE        & \\textbf{  Df Model:          } &       12    \\\\\n",
       "\\textbf{Date:}                                          & Sat, 14 Dec 2024 & \\textbf{  Pseudo R-squ.:     } &   0.7255    \\\\\n",
       "\\textbf{Time:}                                          &     23:41:29     & \\textbf{  Log-Likelihood:    } &   -1173.3   \\\\\n",
       "\\textbf{converged:}                                     &       True       & \\textbf{  LL-Null:           } &   -4275.2   \\\\\n",
       "\\textbf{Covariance Type:}                               &    nonrobust     & \\textbf{  LLR p-value:       } &    0.000    \\\\\n",
       "\\bottomrule\n",
       "\\end{tabular}\n",
       "\\begin{tabular}{lcccccc}\n",
       "                                                        & \\textbf{coef} & \\textbf{std err} & \\textbf{z} & \\textbf{P$> |$z$|$} & \\textbf{[0.025} & \\textbf{0.975]}  \\\\\n",
       "\\midrule\n",
       "\\textbf{const}                                          &      -4.8141  &        0.214     &   -22.512  &         0.000        &       -5.233    &       -4.395     \\\\\n",
       "\\textbf{Total Time Spent on Website}                    &       3.4798  &        0.229     &    15.173  &         0.000        &        3.030    &        3.929     \\\\\n",
       "\\textbf{Lead Source\\_Welingak Website}                  &       3.9286  &        1.024     &     3.836  &         0.000        &        1.921    &        5.936     \\\\\n",
       "\\textbf{Occupation\\_Missing}                            &      -2.5233  &        0.150     &   -16.823  &         0.000        &       -2.817    &       -2.229     \\\\\n",
       "\\textbf{Tags\\_Busy}                                     &       2.6826  &        0.299     &     8.984  &         0.000        &        2.097    &        3.268     \\\\\n",
       "\\textbf{Tags\\_Closed by Horizzon}                       &       9.6063  &        1.024     &     9.377  &         0.000        &        7.598    &       11.614     \\\\\n",
       "\\textbf{Tags\\_Lost to EINS}                             &       8.6990  &        0.578     &    15.037  &         0.000        &        7.565    &        9.833     \\\\\n",
       "\\textbf{Tags\\_Missing}                                  &       4.0944  &        0.233     &    17.589  &         0.000        &        3.638    &        4.551     \\\\\n",
       "\\textbf{Tags\\_Ringing}                                  &      -1.0227  &        0.292     &    -3.497  &         0.000        &       -1.596    &       -0.450     \\\\\n",
       "\\textbf{Tags\\_Will revert after reading the email}      &       6.7799  &        0.252     &    26.882  &         0.000        &        6.286    &        7.274     \\\\\n",
       "\\textbf{Tags\\_switched off}                             &      -1.5963  &        0.633     &    -2.523  &         0.012        &       -2.836    &       -0.356     \\\\\n",
       "\\textbf{Last Notable Activity\\_Olark Chat Conversation} &      -1.7803  &        0.606     &    -2.940  &         0.003        &       -2.967    &       -0.593     \\\\\n",
       "\\textbf{Last Notable Activity\\_SMS Sent}                &       2.6101  &        0.135     &    19.298  &         0.000        &        2.345    &        2.875     \\\\\n",
       "\\bottomrule\n",
       "\\end{tabular}\n",
       "%\\caption{Logit Regression Results}\n",
       "\\end{center}"
      ],
      "text/plain": [
       "<class 'statsmodels.iolib.summary.Summary'>\n",
       "\"\"\"\n",
       "                           Logit Regression Results                           \n",
       "==============================================================================\n",
       "Dep. Variable:              Converted   No. Observations:                 6404\n",
       "Model:                          Logit   Df Residuals:                     6391\n",
       "Method:                           MLE   Df Model:                           12\n",
       "Date:                Sat, 14 Dec 2024   Pseudo R-squ.:                  0.7255\n",
       "Time:                        23:41:29   Log-Likelihood:                -1173.3\n",
       "converged:                       True   LL-Null:                       -4275.2\n",
       "Covariance Type:            nonrobust   LLR p-value:                     0.000\n",
       "=================================================================================================================\n",
       "                                                    coef    std err          z      P>|z|      [0.025      0.975]\n",
       "-----------------------------------------------------------------------------------------------------------------\n",
       "const                                            -4.8141      0.214    -22.512      0.000      -5.233      -4.395\n",
       "Total Time Spent on Website                       3.4798      0.229     15.173      0.000       3.030       3.929\n",
       "Lead Source_Welingak Website                      3.9286      1.024      3.836      0.000       1.921       5.936\n",
       "Occupation_Missing                               -2.5233      0.150    -16.823      0.000      -2.817      -2.229\n",
       "Tags_Busy                                         2.6826      0.299      8.984      0.000       2.097       3.268\n",
       "Tags_Closed by Horizzon                           9.6063      1.024      9.377      0.000       7.598      11.614\n",
       "Tags_Lost to EINS                                 8.6990      0.578     15.037      0.000       7.565       9.833\n",
       "Tags_Missing                                      4.0944      0.233     17.589      0.000       3.638       4.551\n",
       "Tags_Ringing                                     -1.0227      0.292     -3.497      0.000      -1.596      -0.450\n",
       "Tags_Will revert after reading the email          6.7799      0.252     26.882      0.000       6.286       7.274\n",
       "Tags_switched off                                -1.5963      0.633     -2.523      0.012      -2.836      -0.356\n",
       "Last Notable Activity_Olark Chat Conversation    -1.7803      0.606     -2.940      0.003      -2.967      -0.593\n",
       "Last Notable Activity_SMS Sent                    2.6101      0.135     19.298      0.000       2.345       2.875\n",
       "=================================================================================================================\n",
       "\"\"\""
      ]
     },
     "execution_count": 217,
     "metadata": {},
     "output_type": "execute_result"
    }
   ],
   "source": [
    "#  Continue building a model without it\n",
    "\n",
    "X_train1 = X_train1.reset_index(drop=True)\n",
    "y_train = y_train.reset_index(drop=True)\n",
    "X_train_sm = sm.add_constant(X_train1)\n",
    "logm = sm.Logit(y_train, X_train_sm)\n",
    "result = logm.fit()\n",
    "result.summary()"
   ]
  },
  {
   "cell_type": "code",
   "execution_count": 218,
   "metadata": {},
   "outputs": [
    {
     "data": {
      "text/html": [
       "<div>\n",
       "<style scoped>\n",
       "    .dataframe tbody tr th:only-of-type {\n",
       "        vertical-align: middle;\n",
       "    }\n",
       "\n",
       "    .dataframe tbody tr th {\n",
       "        vertical-align: top;\n",
       "    }\n",
       "\n",
       "    .dataframe thead th {\n",
       "        text-align: right;\n",
       "    }\n",
       "</style>\n",
       "<table border=\"1\" class=\"dataframe\">\n",
       "  <thead>\n",
       "    <tr style=\"text-align: right;\">\n",
       "      <th></th>\n",
       "      <th>features</th>\n",
       "      <th>VIF</th>\n",
       "    </tr>\n",
       "  </thead>\n",
       "  <tbody>\n",
       "    <tr>\n",
       "      <th>0</th>\n",
       "      <td>Total Time Spent on Website</td>\n",
       "      <td>1.850320</td>\n",
       "    </tr>\n",
       "    <tr>\n",
       "      <th>1</th>\n",
       "      <td>Lead Source_Welingak Website</td>\n",
       "      <td>1.133244</td>\n",
       "    </tr>\n",
       "    <tr>\n",
       "      <th>2</th>\n",
       "      <td>Occupation_Missing</td>\n",
       "      <td>4.747639</td>\n",
       "    </tr>\n",
       "    <tr>\n",
       "      <th>3</th>\n",
       "      <td>Tags_Busy</td>\n",
       "      <td>1.067156</td>\n",
       "    </tr>\n",
       "    <tr>\n",
       "      <th>4</th>\n",
       "      <td>Tags_Closed by Horizzon</td>\n",
       "      <td>1.074234</td>\n",
       "    </tr>\n",
       "    <tr>\n",
       "      <th>5</th>\n",
       "      <td>Tags_Lost to EINS</td>\n",
       "      <td>1.083535</td>\n",
       "    </tr>\n",
       "    <tr>\n",
       "      <th>6</th>\n",
       "      <td>Tags_Missing</td>\n",
       "      <td>5.302395</td>\n",
       "    </tr>\n",
       "    <tr>\n",
       "      <th>7</th>\n",
       "      <td>Tags_Ringing</td>\n",
       "      <td>1.147854</td>\n",
       "    </tr>\n",
       "    <tr>\n",
       "      <th>8</th>\n",
       "      <td>Tags_Will revert after reading the email</td>\n",
       "      <td>1.723822</td>\n",
       "    </tr>\n",
       "    <tr>\n",
       "      <th>9</th>\n",
       "      <td>Tags_switched off</td>\n",
       "      <td>1.030664</td>\n",
       "    </tr>\n",
       "    <tr>\n",
       "      <th>10</th>\n",
       "      <td>Last Notable Activity_Olark Chat Conversation</td>\n",
       "      <td>1.030791</td>\n",
       "    </tr>\n",
       "    <tr>\n",
       "      <th>11</th>\n",
       "      <td>Last Notable Activity_SMS Sent</td>\n",
       "      <td>1.582090</td>\n",
       "    </tr>\n",
       "  </tbody>\n",
       "</table>\n",
       "</div>"
      ],
      "text/plain": [
       "                                         features       VIF\n",
       "0                     Total Time Spent on Website  1.850320\n",
       "1                    Lead Source_Welingak Website  1.133244\n",
       "2                              Occupation_Missing  4.747639\n",
       "3                                       Tags_Busy  1.067156\n",
       "4                         Tags_Closed by Horizzon  1.074234\n",
       "5                               Tags_Lost to EINS  1.083535\n",
       "6                                    Tags_Missing  5.302395\n",
       "7                                    Tags_Ringing  1.147854\n",
       "8        Tags_Will revert after reading the email  1.723822\n",
       "9                               Tags_switched off  1.030664\n",
       "10  Last Notable Activity_Olark Chat Conversation  1.030791\n",
       "11                 Last Notable Activity_SMS Sent  1.582090"
      ]
     },
     "execution_count": 218,
     "metadata": {},
     "output_type": "execute_result"
    }
   ],
   "source": [
    "# VIF values of the data\n",
    "\n",
    "vif_df = vif(X_train1)\n",
    "vif_df"
   ]
  },
  {
   "cell_type": "code",
   "execution_count": 219,
   "metadata": {},
   "outputs": [],
   "source": [
    "# \"Tags_Missing\" has a high VIF (>5). Let's drop it\n",
    "\n",
    "X_train1 = X_train1.drop(\"Tags_Missing\", axis=1)\n",
    "X_test1 = X_test1.drop(\"Tags_Missing\", axis=1)"
   ]
  },
  {
   "cell_type": "code",
   "execution_count": 220,
   "metadata": {},
   "outputs": [
    {
     "name": "stdout",
     "output_type": "stream",
     "text": [
      "Optimization terminated successfully.\n",
      "         Current function value: 0.220471\n",
      "         Iterations 10\n"
     ]
    },
    {
     "data": {
      "text/html": [
       "<table class=\"simpletable\">\n",
       "<caption>Logit Regression Results</caption>\n",
       "<tr>\n",
       "  <th>Dep. Variable:</th>       <td>Converted</td>    <th>  No. Observations:  </th>  <td>  6404</td> \n",
       "</tr>\n",
       "<tr>\n",
       "  <th>Model:</th>                 <td>Logit</td>      <th>  Df Residuals:      </th>  <td>  6392</td> \n",
       "</tr>\n",
       "<tr>\n",
       "  <th>Method:</th>                 <td>MLE</td>       <th>  Df Model:          </th>  <td>    11</td> \n",
       "</tr>\n",
       "<tr>\n",
       "  <th>Date:</th>            <td>Sat, 14 Dec 2024</td> <th>  Pseudo R-squ.:     </th>  <td>0.6697</td> \n",
       "</tr>\n",
       "<tr>\n",
       "  <th>Time:</th>                <td>23:43:26</td>     <th>  Log-Likelihood:    </th> <td> -1411.9</td>\n",
       "</tr>\n",
       "<tr>\n",
       "  <th>converged:</th>             <td>True</td>       <th>  LL-Null:           </th> <td> -4275.2</td>\n",
       "</tr>\n",
       "<tr>\n",
       "  <th>Covariance Type:</th>     <td>nonrobust</td>    <th>  LLR p-value:       </th>  <td> 0.000</td> \n",
       "</tr>\n",
       "</table>\n",
       "<table class=\"simpletable\">\n",
       "<tr>\n",
       "                        <td></td>                           <th>coef</th>     <th>std err</th>      <th>z</th>      <th>P>|z|</th>  <th>[0.025</th>    <th>0.975]</th>  \n",
       "</tr>\n",
       "<tr>\n",
       "  <th>const</th>                                         <td>   -2.6872</td> <td>    0.099</td> <td>  -27.259</td> <td> 0.000</td> <td>   -2.880</td> <td>   -2.494</td>\n",
       "</tr>\n",
       "<tr>\n",
       "  <th>Total Time Spent on Website</th>                   <td>    3.2445</td> <td>    0.203</td> <td>   15.948</td> <td> 0.000</td> <td>    2.846</td> <td>    3.643</td>\n",
       "</tr>\n",
       "<tr>\n",
       "  <th>Lead Source_Welingak Website</th>                  <td>    5.8587</td> <td>    1.022</td> <td>    5.733</td> <td> 0.000</td> <td>    3.856</td> <td>    7.862</td>\n",
       "</tr>\n",
       "<tr>\n",
       "  <th>Occupation_Missing</th>                            <td>   -0.5893</td> <td>    0.115</td> <td>   -5.130</td> <td> 0.000</td> <td>   -0.814</td> <td>   -0.364</td>\n",
       "</tr>\n",
       "<tr>\n",
       "  <th>Tags_Busy</th>                                     <td>    0.5171</td> <td>    0.245</td> <td>    2.109</td> <td> 0.035</td> <td>    0.037</td> <td>    0.998</td>\n",
       "</tr>\n",
       "<tr>\n",
       "  <th>Tags_Closed by Horizzon</th>                       <td>    7.4946</td> <td>    1.007</td> <td>    7.441</td> <td> 0.000</td> <td>    5.521</td> <td>    9.469</td>\n",
       "</tr>\n",
       "<tr>\n",
       "  <th>Tags_Lost to EINS</th>                             <td>    5.5268</td> <td>    0.517</td> <td>   10.683</td> <td> 0.000</td> <td>    4.513</td> <td>    6.541</td>\n",
       "</tr>\n",
       "<tr>\n",
       "  <th>Tags_Ringing</th>                                  <td>   -3.2508</td> <td>    0.235</td> <td>  -13.850</td> <td> 0.000</td> <td>   -3.711</td> <td>   -2.791</td>\n",
       "</tr>\n",
       "<tr>\n",
       "  <th>Tags_Will revert after reading the email</th>      <td>    4.6676</td> <td>    0.173</td> <td>   27.029</td> <td> 0.000</td> <td>    4.329</td> <td>    5.006</td>\n",
       "</tr>\n",
       "<tr>\n",
       "  <th>Tags_switched off</th>                             <td>   -3.8532</td> <td>    0.607</td> <td>   -6.346</td> <td> 0.000</td> <td>   -5.043</td> <td>   -2.663</td>\n",
       "</tr>\n",
       "<tr>\n",
       "  <th>Last Notable Activity_Olark Chat Conversation</th> <td>   -1.1518</td> <td>    0.585</td> <td>   -1.968</td> <td> 0.049</td> <td>   -2.299</td> <td>   -0.005</td>\n",
       "</tr>\n",
       "<tr>\n",
       "  <th>Last Notable Activity_SMS Sent</th>                <td>    2.8314</td> <td>    0.121</td> <td>   23.441</td> <td> 0.000</td> <td>    2.595</td> <td>    3.068</td>\n",
       "</tr>\n",
       "</table>"
      ],
      "text/latex": [
       "\\begin{center}\n",
       "\\begin{tabular}{lclc}\n",
       "\\toprule\n",
       "\\textbf{Dep. Variable:}                                 &    Converted     & \\textbf{  No. Observations:  } &     6404    \\\\\n",
       "\\textbf{Model:}                                         &      Logit       & \\textbf{  Df Residuals:      } &     6392    \\\\\n",
       "\\textbf{Method:}                                        &       MLE        & \\textbf{  Df Model:          } &       11    \\\\\n",
       "\\textbf{Date:}                                          & Sat, 14 Dec 2024 & \\textbf{  Pseudo R-squ.:     } &   0.6697    \\\\\n",
       "\\textbf{Time:}                                          &     23:43:26     & \\textbf{  Log-Likelihood:    } &   -1411.9   \\\\\n",
       "\\textbf{converged:}                                     &       True       & \\textbf{  LL-Null:           } &   -4275.2   \\\\\n",
       "\\textbf{Covariance Type:}                               &    nonrobust     & \\textbf{  LLR p-value:       } &    0.000    \\\\\n",
       "\\bottomrule\n",
       "\\end{tabular}\n",
       "\\begin{tabular}{lcccccc}\n",
       "                                                        & \\textbf{coef} & \\textbf{std err} & \\textbf{z} & \\textbf{P$> |$z$|$} & \\textbf{[0.025} & \\textbf{0.975]}  \\\\\n",
       "\\midrule\n",
       "\\textbf{const}                                          &      -2.6872  &        0.099     &   -27.259  &         0.000        &       -2.880    &       -2.494     \\\\\n",
       "\\textbf{Total Time Spent on Website}                    &       3.2445  &        0.203     &    15.948  &         0.000        &        2.846    &        3.643     \\\\\n",
       "\\textbf{Lead Source\\_Welingak Website}                  &       5.8587  &        1.022     &     5.733  &         0.000        &        3.856    &        7.862     \\\\\n",
       "\\textbf{Occupation\\_Missing}                            &      -0.5893  &        0.115     &    -5.130  &         0.000        &       -0.814    &       -0.364     \\\\\n",
       "\\textbf{Tags\\_Busy}                                     &       0.5171  &        0.245     &     2.109  &         0.035        &        0.037    &        0.998     \\\\\n",
       "\\textbf{Tags\\_Closed by Horizzon}                       &       7.4946  &        1.007     &     7.441  &         0.000        &        5.521    &        9.469     \\\\\n",
       "\\textbf{Tags\\_Lost to EINS}                             &       5.5268  &        0.517     &    10.683  &         0.000        &        4.513    &        6.541     \\\\\n",
       "\\textbf{Tags\\_Ringing}                                  &      -3.2508  &        0.235     &   -13.850  &         0.000        &       -3.711    &       -2.791     \\\\\n",
       "\\textbf{Tags\\_Will revert after reading the email}      &       4.6676  &        0.173     &    27.029  &         0.000        &        4.329    &        5.006     \\\\\n",
       "\\textbf{Tags\\_switched off}                             &      -3.8532  &        0.607     &    -6.346  &         0.000        &       -5.043    &       -2.663     \\\\\n",
       "\\textbf{Last Notable Activity\\_Olark Chat Conversation} &      -1.1518  &        0.585     &    -1.968  &         0.049        &       -2.299    &       -0.005     \\\\\n",
       "\\textbf{Last Notable Activity\\_SMS Sent}                &       2.8314  &        0.121     &    23.441  &         0.000        &        2.595    &        3.068     \\\\\n",
       "\\bottomrule\n",
       "\\end{tabular}\n",
       "%\\caption{Logit Regression Results}\n",
       "\\end{center}"
      ],
      "text/plain": [
       "<class 'statsmodels.iolib.summary.Summary'>\n",
       "\"\"\"\n",
       "                           Logit Regression Results                           \n",
       "==============================================================================\n",
       "Dep. Variable:              Converted   No. Observations:                 6404\n",
       "Model:                          Logit   Df Residuals:                     6392\n",
       "Method:                           MLE   Df Model:                           11\n",
       "Date:                Sat, 14 Dec 2024   Pseudo R-squ.:                  0.6697\n",
       "Time:                        23:43:26   Log-Likelihood:                -1411.9\n",
       "converged:                       True   LL-Null:                       -4275.2\n",
       "Covariance Type:            nonrobust   LLR p-value:                     0.000\n",
       "=================================================================================================================\n",
       "                                                    coef    std err          z      P>|z|      [0.025      0.975]\n",
       "-----------------------------------------------------------------------------------------------------------------\n",
       "const                                            -2.6872      0.099    -27.259      0.000      -2.880      -2.494\n",
       "Total Time Spent on Website                       3.2445      0.203     15.948      0.000       2.846       3.643\n",
       "Lead Source_Welingak Website                      5.8587      1.022      5.733      0.000       3.856       7.862\n",
       "Occupation_Missing                               -0.5893      0.115     -5.130      0.000      -0.814      -0.364\n",
       "Tags_Busy                                         0.5171      0.245      2.109      0.035       0.037       0.998\n",
       "Tags_Closed by Horizzon                           7.4946      1.007      7.441      0.000       5.521       9.469\n",
       "Tags_Lost to EINS                                 5.5268      0.517     10.683      0.000       4.513       6.541\n",
       "Tags_Ringing                                     -3.2508      0.235    -13.850      0.000      -3.711      -2.791\n",
       "Tags_Will revert after reading the email          4.6676      0.173     27.029      0.000       4.329       5.006\n",
       "Tags_switched off                                -3.8532      0.607     -6.346      0.000      -5.043      -2.663\n",
       "Last Notable Activity_Olark Chat Conversation    -1.1518      0.585     -1.968      0.049      -2.299      -0.005\n",
       "Last Notable Activity_SMS Sent                    2.8314      0.121     23.441      0.000       2.595       3.068\n",
       "=================================================================================================================\n",
       "\"\"\""
      ]
     },
     "execution_count": 220,
     "metadata": {},
     "output_type": "execute_result"
    }
   ],
   "source": [
    "# Build the model with the updated columns\n",
    "\n",
    "X_train1 = X_train1.reset_index(drop=True)\n",
    "y_train = y_train.reset_index(drop=True)\n",
    "X_train_sm = sm.add_constant(X_train1)\n",
    "logm = sm.Logit(y_train, X_train_sm)\n",
    "result = logm.fit()\n",
    "result.summary()"
   ]
  },
  {
   "cell_type": "code",
   "execution_count": 221,
   "metadata": {},
   "outputs": [
    {
     "data": {
      "text/html": [
       "<div>\n",
       "<style scoped>\n",
       "    .dataframe tbody tr th:only-of-type {\n",
       "        vertical-align: middle;\n",
       "    }\n",
       "\n",
       "    .dataframe tbody tr th {\n",
       "        vertical-align: top;\n",
       "    }\n",
       "\n",
       "    .dataframe thead th {\n",
       "        text-align: right;\n",
       "    }\n",
       "</style>\n",
       "<table border=\"1\" class=\"dataframe\">\n",
       "  <thead>\n",
       "    <tr style=\"text-align: right;\">\n",
       "      <th></th>\n",
       "      <th>features</th>\n",
       "      <th>VIF</th>\n",
       "    </tr>\n",
       "  </thead>\n",
       "  <tbody>\n",
       "    <tr>\n",
       "      <th>0</th>\n",
       "      <td>Total Time Spent on Website</td>\n",
       "      <td>1.747241</td>\n",
       "    </tr>\n",
       "    <tr>\n",
       "      <th>1</th>\n",
       "      <td>Lead Source_Welingak Website</td>\n",
       "      <td>1.034192</td>\n",
       "    </tr>\n",
       "    <tr>\n",
       "      <th>2</th>\n",
       "      <td>Occupation_Missing</td>\n",
       "      <td>1.149235</td>\n",
       "    </tr>\n",
       "    <tr>\n",
       "      <th>3</th>\n",
       "      <td>Tags_Busy</td>\n",
       "      <td>1.059353</td>\n",
       "    </tr>\n",
       "    <tr>\n",
       "      <th>4</th>\n",
       "      <td>Tags_Closed by Horizzon</td>\n",
       "      <td>1.066023</td>\n",
       "    </tr>\n",
       "    <tr>\n",
       "      <th>5</th>\n",
       "      <td>Tags_Lost to EINS</td>\n",
       "      <td>1.039711</td>\n",
       "    </tr>\n",
       "    <tr>\n",
       "      <th>6</th>\n",
       "      <td>Tags_Ringing</td>\n",
       "      <td>1.130529</td>\n",
       "    </tr>\n",
       "    <tr>\n",
       "      <th>7</th>\n",
       "      <td>Tags_Will revert after reading the email</td>\n",
       "      <td>1.635470</td>\n",
       "    </tr>\n",
       "    <tr>\n",
       "      <th>8</th>\n",
       "      <td>Tags_switched off</td>\n",
       "      <td>1.027208</td>\n",
       "    </tr>\n",
       "    <tr>\n",
       "      <th>9</th>\n",
       "      <td>Last Notable Activity_Olark Chat Conversation</td>\n",
       "      <td>1.027127</td>\n",
       "    </tr>\n",
       "    <tr>\n",
       "      <th>10</th>\n",
       "      <td>Last Notable Activity_SMS Sent</td>\n",
       "      <td>1.497742</td>\n",
       "    </tr>\n",
       "  </tbody>\n",
       "</table>\n",
       "</div>"
      ],
      "text/plain": [
       "                                         features       VIF\n",
       "0                     Total Time Spent on Website  1.747241\n",
       "1                    Lead Source_Welingak Website  1.034192\n",
       "2                              Occupation_Missing  1.149235\n",
       "3                                       Tags_Busy  1.059353\n",
       "4                         Tags_Closed by Horizzon  1.066023\n",
       "5                               Tags_Lost to EINS  1.039711\n",
       "6                                    Tags_Ringing  1.130529\n",
       "7        Tags_Will revert after reading the email  1.635470\n",
       "8                               Tags_switched off  1.027208\n",
       "9   Last Notable Activity_Olark Chat Conversation  1.027127\n",
       "10                 Last Notable Activity_SMS Sent  1.497742"
      ]
     },
     "execution_count": 221,
     "metadata": {},
     "output_type": "execute_result"
    }
   ],
   "source": [
    "# VIF of the data\n",
    "\n",
    "vif_df = vif(X_train1)\n",
    "vif_df"
   ]
  },
  {
   "cell_type": "code",
   "execution_count": 224,
   "metadata": {},
   "outputs": [],
   "source": [
    "# Let's predict the output with this model\n",
    "X_test1 = sm.add_constant(X_test1)\n",
    "y_pred = result.predict(X_test1)"
   ]
  },
  {
   "cell_type": "code",
   "execution_count": null,
   "metadata": {},
   "outputs": [],
   "source": [
    "# Convert the prediction probabilities to percentages\n",
    "\n",
    "y_pred = y_pred*100"
   ]
  },
  {
   "cell_type": "code",
   "execution_count": 289,
   "metadata": {},
   "outputs": [
    {
     "data": {
      "text/html": [
       "<div>\n",
       "<style scoped>\n",
       "    .dataframe tbody tr th:only-of-type {\n",
       "        vertical-align: middle;\n",
       "    }\n",
       "\n",
       "    .dataframe tbody tr th {\n",
       "        vertical-align: top;\n",
       "    }\n",
       "\n",
       "    .dataframe thead th {\n",
       "        text-align: right;\n",
       "    }\n",
       "</style>\n",
       "<table border=\"1\" class=\"dataframe\">\n",
       "  <thead>\n",
       "    <tr style=\"text-align: right;\">\n",
       "      <th></th>\n",
       "      <th>const</th>\n",
       "      <th>Total Time Spent on Website</th>\n",
       "      <th>Lead Source_Welingak Website</th>\n",
       "      <th>Occupation_Missing</th>\n",
       "      <th>Tags_Busy</th>\n",
       "      <th>Tags_Closed by Horizzon</th>\n",
       "      <th>Tags_Lost to EINS</th>\n",
       "      <th>Tags_Ringing</th>\n",
       "      <th>Tags_Will revert after reading the email</th>\n",
       "      <th>Tags_switched off</th>\n",
       "      <th>Last Notable Activity_Olark Chat Conversation</th>\n",
       "      <th>Last Notable Activity_SMS Sent</th>\n",
       "      <th>Lead Score</th>\n",
       "    </tr>\n",
       "  </thead>\n",
       "  <tbody>\n",
       "    <tr>\n",
       "      <th>0</th>\n",
       "      <td>1.0</td>\n",
       "      <td>0.014525</td>\n",
       "      <td>0.0</td>\n",
       "      <td>1.0</td>\n",
       "      <td>0.0</td>\n",
       "      <td>0.0</td>\n",
       "      <td>0.0</td>\n",
       "      <td>0.0</td>\n",
       "      <td>0.0</td>\n",
       "      <td>0.0</td>\n",
       "      <td>0.0</td>\n",
       "      <td>0.0</td>\n",
       "      <td>3.807391</td>\n",
       "    </tr>\n",
       "    <tr>\n",
       "      <th>1</th>\n",
       "      <td>1.0</td>\n",
       "      <td>0.877201</td>\n",
       "      <td>0.0</td>\n",
       "      <td>1.0</td>\n",
       "      <td>0.0</td>\n",
       "      <td>0.0</td>\n",
       "      <td>0.0</td>\n",
       "      <td>0.0</td>\n",
       "      <td>0.0</td>\n",
       "      <td>0.0</td>\n",
       "      <td>0.0</td>\n",
       "      <td>0.0</td>\n",
       "      <td>39.401843</td>\n",
       "    </tr>\n",
       "    <tr>\n",
       "      <th>2</th>\n",
       "      <td>1.0</td>\n",
       "      <td>0.150968</td>\n",
       "      <td>0.0</td>\n",
       "      <td>0.0</td>\n",
       "      <td>0.0</td>\n",
       "      <td>0.0</td>\n",
       "      <td>0.0</td>\n",
       "      <td>0.0</td>\n",
       "      <td>1.0</td>\n",
       "      <td>0.0</td>\n",
       "      <td>0.0</td>\n",
       "      <td>0.0</td>\n",
       "      <td>92.202379</td>\n",
       "    </tr>\n",
       "    <tr>\n",
       "      <th>3</th>\n",
       "      <td>1.0</td>\n",
       "      <td>0.000000</td>\n",
       "      <td>0.0</td>\n",
       "      <td>0.0</td>\n",
       "      <td>0.0</td>\n",
       "      <td>0.0</td>\n",
       "      <td>0.0</td>\n",
       "      <td>0.0</td>\n",
       "      <td>1.0</td>\n",
       "      <td>0.0</td>\n",
       "      <td>0.0</td>\n",
       "      <td>0.0</td>\n",
       "      <td>87.871845</td>\n",
       "    </tr>\n",
       "    <tr>\n",
       "      <th>4</th>\n",
       "      <td>1.0</td>\n",
       "      <td>0.219630</td>\n",
       "      <td>0.0</td>\n",
       "      <td>1.0</td>\n",
       "      <td>0.0</td>\n",
       "      <td>0.0</td>\n",
       "      <td>0.0</td>\n",
       "      <td>0.0</td>\n",
       "      <td>0.0</td>\n",
       "      <td>0.0</td>\n",
       "      <td>0.0</td>\n",
       "      <td>1.0</td>\n",
       "      <td>56.646439</td>\n",
       "    </tr>\n",
       "  </tbody>\n",
       "</table>\n",
       "</div>"
      ],
      "text/plain": [
       "   const  Total Time Spent on Website  Lead Source_Welingak Website  \\\n",
       "0    1.0                     0.014525                           0.0   \n",
       "1    1.0                     0.877201                           0.0   \n",
       "2    1.0                     0.150968                           0.0   \n",
       "3    1.0                     0.000000                           0.0   \n",
       "4    1.0                     0.219630                           0.0   \n",
       "\n",
       "   Occupation_Missing  Tags_Busy  Tags_Closed by Horizzon  Tags_Lost to EINS  \\\n",
       "0                 1.0        0.0                      0.0                0.0   \n",
       "1                 1.0        0.0                      0.0                0.0   \n",
       "2                 0.0        0.0                      0.0                0.0   \n",
       "3                 0.0        0.0                      0.0                0.0   \n",
       "4                 1.0        0.0                      0.0                0.0   \n",
       "\n",
       "   Tags_Ringing  Tags_Will revert after reading the email  Tags_switched off  \\\n",
       "0           0.0                                       0.0                0.0   \n",
       "1           0.0                                       0.0                0.0   \n",
       "2           0.0                                       1.0                0.0   \n",
       "3           0.0                                       1.0                0.0   \n",
       "4           0.0                                       0.0                0.0   \n",
       "\n",
       "   Last Notable Activity_Olark Chat Conversation  \\\n",
       "0                                            0.0   \n",
       "1                                            0.0   \n",
       "2                                            0.0   \n",
       "3                                            0.0   \n",
       "4                                            0.0   \n",
       "\n",
       "   Last Notable Activity_SMS Sent  Lead Score  \n",
       "0                             0.0    3.807391  \n",
       "1                             0.0   39.401843  \n",
       "2                             0.0   92.202379  \n",
       "3                             0.0   87.871845  \n",
       "4                             1.0   56.646439  "
      ]
     },
     "execution_count": 289,
     "metadata": {},
     "output_type": "execute_result"
    }
   ],
   "source": [
    "# We will add this percentage (Lead Score) to the data \n",
    "\n",
    "X_test1['Lead Score'] = y_pred\n",
    "X_test1.head()"
   ]
  },
  {
   "cell_type": "code",
   "execution_count": 310,
   "metadata": {},
   "outputs": [
    {
     "data": {
      "image/png": "[encoded data removed]",
      "text/plain": [
       "<Figure size 640x480 with 1 Axes>"
      ]
     },
     "metadata": {},
     "output_type": "display_data"
    },
    {
     "data": {
      "text/plain": [
       "51.97245350323377"
      ]
     },
     "execution_count": 310,
     "metadata": {},
     "output_type": "execute_result"
    }
   ],
   "source": [
    "# Let's use Precision Recall Curve to find the best prediction probability threshold.\n",
    "\n",
    "from sklearn.metrics import precision_recall_curve\n",
    "precision, recall, thresholds = precision_recall_curve(y_test, y_pred)\n",
    "f1_scores = 2 * (precision * recall) / (precision + recall)  # F1 Score\n",
    "optimal_idx = np.argmax(f1_scores)\n",
    "optimal_threshold_prc = thresholds[optimal_idx]\n",
    "optimal_precision = precision[optimal_idx]\n",
    "optimal_recall = recall[optimal_idx]\n",
    "\n",
    "plt.plot(recall, precision, color=\"b\")\n",
    "plt.scatter(optimal_recall, optimal_precision, color=\"red\", s=100, label=f\"Optimal Threshold = {optimal_threshold_prc:.2f}\")\n",
    "plt.title(\"Precision-Recall Curve\")\n",
    "plt.xlabel(\"Recall\")\n",
    "plt.ylabel(\"Precision\")\n",
    "plt.legend()\n",
    "plt.grid()\n",
    "plt.show()\n",
    "optimal_threshold_prc"
   ]
  },
  {
   "cell_type": "code",
   "execution_count": 309,
   "metadata": {},
   "outputs": [
    {
     "data": {
      "image/png": "[encoded data removed]",
      "text/plain": [
       "<Figure size 640x480 with 1 Axes>"
      ]
     },
     "metadata": {},
     "output_type": "display_data"
    },
    {
     "data": {
      "text/plain": [
       "39.051422078465116"
      ]
     },
     "execution_count": 309,
     "metadata": {},
     "output_type": "execute_result"
    }
   ],
   "source": [
    "# Use the ROC Curve to find out the best prediction probability threshold\n",
    "\n",
    "from sklearn.metrics import roc_curve, roc_auc_score\n",
    "fpr, tpr, thresholds = roc_curve(y_test, y_pred)\n",
    "roc_auc = roc_auc_score(y_test, y_pred)\n",
    "optimal_idx = np.argmax(tpr - fpr)  # Maximize TPR - FPR\n",
    "optimal_threshold = thresholds[optimal_idx]\n",
    "plt.plot(fpr,tpr, label=f\"Area under curve: {roc_auc:.2f}\", color=\"b\")\n",
    "plt.plot([0, 1], [0, 1], linestyle=\"--\", color=\"red\")\n",
    "plt.title(f'Receiver Operating Characterisics (ROC) Curve')\n",
    "plt.xlabel('False Positive Rate')\n",
    "plt.ylabel('True Positive Rate')\n",
    "plt.legend(loc=\"lower right\")\n",
    "plt.show()\n",
    "optimal_threshold"
   ]
  },
  {
   "cell_type": "markdown",
   "metadata": {},
   "source": [
    "Let us consider the threshold given by the Precision Recall Curve, as we have imbalanced data for the \"Converted\" column.\n",
    "\n",
    "- PRC focuses solely on the positive class (precision and recall) and is less affected by the imbalance.\n",
    "- It provides a more realistic picture of the model’s performance on the minority class, which is often the focus in imbalanced settings."
   ]
  },
  {
   "cell_type": "code",
   "execution_count": 314,
   "metadata": {},
   "outputs": [],
   "source": [
    "# Let's assign classes based on the Precision Recall Curve threshold value\n",
    "\n",
    "y_pred_label = (y_pred >= optimal_threshold_prc).astype(int)"
   ]
  },
  {
   "cell_type": "code",
   "execution_count": 315,
   "metadata": {},
   "outputs": [
    {
     "name": "stdout",
     "output_type": "stream",
     "text": [
      "Acuuracy of the model: 0.92\n",
      "Precision: 0.93\n",
      "Recall: 0.86\n",
      "F1 Score: 0.89\n"
     ]
    }
   ],
   "source": [
    "# Let's do the model evaluation\n",
    "print(f'Acuuracy of the model: {round(accuracy_score(y_test,y_pred_label),2)}')\n",
    "\n",
    "print(f'Precision: {round(precision_score(y_test, y_pred_label),2)}')\n",
    "\n",
    "print(f'Recall: {round(recall_score(y_test, y_pred_label),2)}')\n",
    "\n",
    "print(f'F1 Score: {round(f1_score(y_test, y_pred_label),2)}')"
   ]
  },
  {
   "cell_type": "code",
   "execution_count": 316,
   "metadata": {},
   "outputs": [
    {
     "data": {
      "image/png": "[encoded data removed]",
      "text/plain": [
       "<Figure size 640x480 with 2 Axes>"
      ]
     },
     "metadata": {},
     "output_type": "display_data"
    }
   ],
   "source": [
    "# Let's get the confusion matrix\n",
    "\n",
    "cm = sklearn.metrics.confusion_matrix(y_test, y_pred_label)\n",
    "sns.heatmap(cm, annot=True, fmt='d', cmap='Blues', xticklabels=['Not Converted', 'Converted'], yticklabels=['Not Converted', 'Converted'])\n",
    "plt.show()"
   ]
  },
  {
   "cell_type": "code",
   "execution_count": null,
   "metadata": {},
   "outputs": [],
   "source": []
  }
 ],
 "metadata": {
  "kernelspec": {
   "display_name": "Python 3",
   "language": "python",
   "name": "python3"
  },
  "language_info": {
   "codemirror_mode": {
    "name": "ipython",
    "version": 3
   },
   "file_extension": ".py",
   "mimetype": "text/x-python",
   "name": "python",
   "nbconvert_exporter": "python",
   "pygments_lexer": "ipython3",
   "version": "3.12.2"
  }
 },
 "nbformat": 4,
 "nbformat_minor": 2
}
